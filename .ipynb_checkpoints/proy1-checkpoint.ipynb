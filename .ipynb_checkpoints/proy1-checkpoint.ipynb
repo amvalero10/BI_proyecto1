{
 "cells": [
  {
   "cell_type": "markdown",
   "id": "eb37ea5b-c57a-4515-8a00-2d6fabeb755f",
   "metadata": {},
   "source": [
    "<img src=\"./img/banner.png\">"
   ]
  },
  {
   "cell_type": "markdown",
   "id": "1f6c4072-cfad-46a2-a492-956bc80815b7",
   "metadata": {},
   "source": [
    "# Proyecto 1\n",
    "\n",
    "1. Carga y exploración de datos.\n",
    "\n",
    "    1.1. Importación de librerias.\n",
    "    \n",
    "    1.2. Carga de datos.\n",
    "    \n",
    "    1.3. Exploración.\n",
    "    \n",
    "2. Limpieza y preparación de los datos.\n",
    "\n",
    "    2.1. Datos Nulos.\n",
    "\n",
    "    2.2. Tipo adecuado de cada atributo.\n",
    "    \n",
    "    2.3. Selección de atributos.\n",
    "        \n",
    "3. Preparacion previa a los modelos.\n",
    "\n",
    "    3.1.1. \n",
    "    "
   ]
  },
  {
   "cell_type": "markdown",
   "id": "2209981a-bf3b-47bc-b125-d8ad66234b79",
   "metadata": {},
   "source": [
    "## 1. Carga y exploración de datos."
   ]
  },
  {
   "cell_type": "markdown",
   "id": "7c349bcf-43ad-4445-ad97-d55ce9fd9a6d",
   "metadata": {},
   "source": [
    "### 1.1. Importación de librerias."
   ]
  },
  {
   "cell_type": "code",
   "execution_count": 110,
   "id": "3d278399-78d9-4fa1-9a9c-a9e4087d1e52",
   "metadata": {},
   "outputs": [],
   "source": [
    "# Librerías para manejo de datos\n",
    "import pandas as pd\n",
    "import numpy as np\n",
    "import string\n",
    "import re\n",
    "\n",
    "\n",
    "# Preprocesado y modelado\n",
    "# ==============================================================================\n",
    "from sklearn import svm\n",
    "from sklearn.model_selection import train_test_split\n",
    "from sklearn.model_selection import GridSearchCV\n",
    "from sklearn.metrics import confusion_matrix\n",
    "from sklearn.feature_extraction.text import TfidfVectorizer\n",
    "import nltk\n",
    "#nltk.download('stopwords')\n",
    "from nltk.corpus import stopwords\n",
    "\n",
    "\n",
    "\n",
    "#Librerías para la visualización\n",
    "import matplotlib.pyplot as plt\n",
    "import seaborn as sns; sns.set()\n",
    "from matplotlib import style\n",
    "\n",
    "\n",
    "import warnings\n",
    "warnings.filterwarnings('ignore')\n",
    "\n",
    "%matplotlib inline\n",
    "\n"
   ]
  },
  {
   "cell_type": "code",
   "execution_count": 112,
   "id": "7e1625cb-761d-48b0-98eb-734bee4a52b6",
   "metadata": {},
   "outputs": [
    {
     "name": "stderr",
     "output_type": "stream",
     "text": [
      "[nltk_data] Downloading package stopwords to\n",
      "[nltk_data]     /Users/angelomarcetty/nltk_data...\n",
      "[nltk_data]   Unzipping corpora/stopwords.zip.\n"
     ]
    },
    {
     "data": {
      "text/plain": [
       "True"
      ]
     },
     "execution_count": 112,
     "metadata": {},
     "output_type": "execute_result"
    }
   ],
   "source": [
    "nltk.download('stopwords') "
   ]
  },
  {
   "cell_type": "code",
   "execution_count": 2,
   "id": "1da85585-62ad-48b1-a6ca-1737973c1be3",
   "metadata": {},
   "outputs": [],
   "source": [
    "# carga de los datos\n",
    "# csv -> dataFrame\n",
    "df_reviews = pd.read_csv('./datos/kindle_reviews.csv', sep=',', encoding = 'utf-8' )"
   ]
  },
  {
   "cell_type": "markdown",
   "id": "5a1d1f9b-cb99-41dd-93d6-2fa3df484291",
   "metadata": {},
   "source": [
    "### 1.3. Exploración."
   ]
  },
  {
   "cell_type": "code",
   "execution_count": 3,
   "id": "7beb0479-9566-4160-b800-65046d1c0449",
   "metadata": {},
   "outputs": [
    {
     "data": {
      "text/plain": [
       "(982619, 10)"
      ]
     },
     "execution_count": 3,
     "metadata": {},
     "output_type": "execute_result"
    }
   ],
   "source": [
    "#cantidad de datos y numero de variables\n",
    "df_reviews.shape"
   ]
  },
  {
   "cell_type": "code",
   "execution_count": 4,
   "id": "3fa832eb-cafe-4c55-bc8e-5dc25633f540",
   "metadata": {},
   "outputs": [
    {
     "data": {
      "text/html": [
       "<div>\n",
       "<style scoped>\n",
       "    .dataframe tbody tr th:only-of-type {\n",
       "        vertical-align: middle;\n",
       "    }\n",
       "\n",
       "    .dataframe tbody tr th {\n",
       "        vertical-align: top;\n",
       "    }\n",
       "\n",
       "    .dataframe thead th {\n",
       "        text-align: right;\n",
       "    }\n",
       "</style>\n",
       "<table border=\"1\" class=\"dataframe\">\n",
       "  <thead>\n",
       "    <tr style=\"text-align: right;\">\n",
       "      <th></th>\n",
       "      <th>Unnamed: 0</th>\n",
       "      <th>asin</th>\n",
       "      <th>helpful</th>\n",
       "      <th>overall</th>\n",
       "      <th>reviewText</th>\n",
       "      <th>reviewTime</th>\n",
       "      <th>reviewerID</th>\n",
       "      <th>reviewerName</th>\n",
       "      <th>summary</th>\n",
       "      <th>unixReviewTime</th>\n",
       "    </tr>\n",
       "  </thead>\n",
       "  <tbody>\n",
       "    <tr>\n",
       "      <th>0</th>\n",
       "      <td>0</td>\n",
       "      <td>B000F83SZQ</td>\n",
       "      <td>[0, 0]</td>\n",
       "      <td>5</td>\n",
       "      <td>I enjoy vintage books and movies so I enjoyed ...</td>\n",
       "      <td>05 5, 2014</td>\n",
       "      <td>A1F6404F1VG29J</td>\n",
       "      <td>Avidreader</td>\n",
       "      <td>Nice vintage story</td>\n",
       "      <td>1399248000</td>\n",
       "    </tr>\n",
       "    <tr>\n",
       "      <th>1</th>\n",
       "      <td>1</td>\n",
       "      <td>B000F83SZQ</td>\n",
       "      <td>[2, 2]</td>\n",
       "      <td>4</td>\n",
       "      <td>This book is a reissue of an old one; the auth...</td>\n",
       "      <td>01 6, 2014</td>\n",
       "      <td>AN0N05A9LIJEQ</td>\n",
       "      <td>critters</td>\n",
       "      <td>Different...</td>\n",
       "      <td>1388966400</td>\n",
       "    </tr>\n",
       "    <tr>\n",
       "      <th>2</th>\n",
       "      <td>2</td>\n",
       "      <td>B000F83SZQ</td>\n",
       "      <td>[2, 2]</td>\n",
       "      <td>4</td>\n",
       "      <td>This was a fairly interesting read.  It had ol...</td>\n",
       "      <td>04 4, 2014</td>\n",
       "      <td>A795DMNCJILA6</td>\n",
       "      <td>dot</td>\n",
       "      <td>Oldie</td>\n",
       "      <td>1396569600</td>\n",
       "    </tr>\n",
       "    <tr>\n",
       "      <th>3</th>\n",
       "      <td>3</td>\n",
       "      <td>B000F83SZQ</td>\n",
       "      <td>[1, 1]</td>\n",
       "      <td>5</td>\n",
       "      <td>I'd never read any of the Amy Brewster mysteri...</td>\n",
       "      <td>02 19, 2014</td>\n",
       "      <td>A1FV0SX13TWVXQ</td>\n",
       "      <td>Elaine H. Turley \"Montana Songbird\"</td>\n",
       "      <td>I really liked it.</td>\n",
       "      <td>1392768000</td>\n",
       "    </tr>\n",
       "    <tr>\n",
       "      <th>4</th>\n",
       "      <td>4</td>\n",
       "      <td>B000F83SZQ</td>\n",
       "      <td>[0, 1]</td>\n",
       "      <td>4</td>\n",
       "      <td>If you like period pieces - clothing, lingo, y...</td>\n",
       "      <td>03 19, 2014</td>\n",
       "      <td>A3SPTOKDG7WBLN</td>\n",
       "      <td>Father Dowling Fan</td>\n",
       "      <td>Period Mystery</td>\n",
       "      <td>1395187200</td>\n",
       "    </tr>\n",
       "  </tbody>\n",
       "</table>\n",
       "</div>"
      ],
      "text/plain": [
       "   Unnamed: 0        asin helpful  overall  \\\n",
       "0           0  B000F83SZQ  [0, 0]        5   \n",
       "1           1  B000F83SZQ  [2, 2]        4   \n",
       "2           2  B000F83SZQ  [2, 2]        4   \n",
       "3           3  B000F83SZQ  [1, 1]        5   \n",
       "4           4  B000F83SZQ  [0, 1]        4   \n",
       "\n",
       "                                          reviewText   reviewTime  \\\n",
       "0  I enjoy vintage books and movies so I enjoyed ...   05 5, 2014   \n",
       "1  This book is a reissue of an old one; the auth...   01 6, 2014   \n",
       "2  This was a fairly interesting read.  It had ol...   04 4, 2014   \n",
       "3  I'd never read any of the Amy Brewster mysteri...  02 19, 2014   \n",
       "4  If you like period pieces - clothing, lingo, y...  03 19, 2014   \n",
       "\n",
       "       reviewerID                         reviewerName             summary  \\\n",
       "0  A1F6404F1VG29J                           Avidreader  Nice vintage story   \n",
       "1   AN0N05A9LIJEQ                             critters        Different...   \n",
       "2   A795DMNCJILA6                                  dot               Oldie   \n",
       "3  A1FV0SX13TWVXQ  Elaine H. Turley \"Montana Songbird\"  I really liked it.   \n",
       "4  A3SPTOKDG7WBLN                   Father Dowling Fan      Period Mystery   \n",
       "\n",
       "   unixReviewTime  \n",
       "0      1399248000  \n",
       "1      1388966400  \n",
       "2      1396569600  \n",
       "3      1392768000  \n",
       "4      1395187200  "
      ]
     },
     "execution_count": 4,
     "metadata": {},
     "output_type": "execute_result"
    }
   ],
   "source": [
    "# mostrar las 5 primeras 982597\n",
    "df_reviews.head(5)"
   ]
  },
  {
   "cell_type": "code",
   "execution_count": 5,
   "id": "c2aea164-b24f-4e8d-ad40-25a5c7bb164f",
   "metadata": {},
   "outputs": [
    {
     "data": {
      "text/plain": [
       "Unnamed: 0         int64\n",
       "asin              object\n",
       "helpful           object\n",
       "overall            int64\n",
       "reviewText        object\n",
       "reviewTime        object\n",
       "reviewerID        object\n",
       "reviewerName      object\n",
       "summary           object\n",
       "unixReviewTime     int64\n",
       "dtype: object"
      ]
     },
     "execution_count": 5,
     "metadata": {},
     "output_type": "execute_result"
    }
   ],
   "source": [
    "# ver todos los tipos de variables \n",
    "df_reviews.dtypes"
   ]
  },
  {
   "cell_type": "code",
   "execution_count": 6,
   "id": "9cdf3909-1ef6-4ace-a333-5cbcaa56b5e2",
   "metadata": {},
   "outputs": [
    {
     "data": {
      "text/plain": [
       "Unnamed: 0           0\n",
       "asin                 0\n",
       "helpful              0\n",
       "overall              0\n",
       "reviewText          22\n",
       "reviewTime           0\n",
       "reviewerID           0\n",
       "reviewerName      3816\n",
       "summary              1\n",
       "unixReviewTime       0\n",
       "dtype: int64"
      ]
     },
     "execution_count": 6,
     "metadata": {},
     "output_type": "execute_result"
    }
   ],
   "source": [
    "#cantidad de datos nulos\n",
    "df_reviews.isnull().sum()"
   ]
  },
  {
   "cell_type": "markdown",
   "id": "0b23a6e7-18a9-4e50-9e90-3a98abc756d5",
   "metadata": {},
   "source": [
    "## 2. Limpieza y preparación de los datos."
   ]
  },
  {
   "cell_type": "markdown",
   "id": "c392967c-7426-4c1a-be5b-ca2be9bb02f4",
   "metadata": {},
   "source": [
    "### 2.1. Datos Nulos."
   ]
  },
  {
   "cell_type": "markdown",
   "id": "033e546f-7ef3-436c-b50e-fa69dfb0b9b5",
   "metadata": {},
   "source": [
    "Primero procederemos a borrar los datos nulos de la columna **reviewText** con 22 nulos. Debido a que esta columna es de vital importancia, dado que son las reviews de determinado libros, los datos en ella son unicos, entonces es imposible saber el valor de esta columna."
   ]
  },
  {
   "cell_type": "code",
   "execution_count": 7,
   "id": "2673f2e5-2091-42bc-84ca-25b7a6d38db2",
   "metadata": {},
   "outputs": [],
   "source": [
    "df_reviews.dropna(subset = [\"reviewText\"], inplace=True)"
   ]
  },
  {
   "cell_type": "markdown",
   "id": "bdcf453d-d9de-407a-8008-13d326cc2ea3",
   "metadata": {},
   "source": [
    "La columna **reviewerName*** posee 3816 datos nulos. Esta columna hace referencia al nombre dado a determinada review. Debido a que esta columna posee una cantidad considerable de datos, se determina no borrar estos registro, pero si eliminar la columna, dado la cantidad de registros y el poco  aporte que pueda dar el nombre de la review a los modelos."
   ]
  },
  {
   "cell_type": "code",
   "execution_count": 8,
   "id": "7f954a77-3a53-4f0a-a6b1-996e27805333",
   "metadata": {},
   "outputs": [],
   "source": [
    "del df_reviews['reviewerName']"
   ]
  },
  {
   "cell_type": "markdown",
   "id": "2fd36e0b-3ed4-4a39-bec7-b43ad63f2905",
   "metadata": {},
   "source": [
    "Finalmente para la columna de **summary** que posee un dato nulo, se considera borrarla, debido a que es un dado desconocido y la cantidad de nulos no tienen un impacto significativo en el modelo."
   ]
  },
  {
   "cell_type": "code",
   "execution_count": 9,
   "id": "e5267561-8bfe-4352-a331-5c0c4d49258e",
   "metadata": {},
   "outputs": [],
   "source": [
    "df_reviews.dropna(subset = [\"summary\"], inplace=True)"
   ]
  },
  {
   "cell_type": "code",
   "execution_count": 10,
   "id": "e56e9dc3-9083-4541-97e3-f8409e11e2e1",
   "metadata": {},
   "outputs": [
    {
     "data": {
      "text/plain": [
       "Unnamed: 0        0\n",
       "asin              0\n",
       "helpful           0\n",
       "overall           0\n",
       "reviewText        0\n",
       "reviewTime        0\n",
       "reviewerID        0\n",
       "summary           0\n",
       "unixReviewTime    0\n",
       "dtype: int64"
      ]
     },
     "execution_count": 10,
     "metadata": {},
     "output_type": "execute_result"
    }
   ],
   "source": [
    "# cantidad de nulos\n",
    "df_reviews.isnull().sum()"
   ]
  },
  {
   "cell_type": "markdown",
   "id": "8f433c0a-13fa-404d-b690-a7cb92964af8",
   "metadata": {},
   "source": [
    "### 2.2. Tipo adecuado de cada atributo."
   ]
  },
  {
   "cell_type": "code",
   "execution_count": 11,
   "id": "25e57edc-589d-423f-b3a7-6246229c57b9",
   "metadata": {},
   "outputs": [
    {
     "data": {
      "text/plain": [
       "Unnamed: 0         int64\n",
       "asin              object\n",
       "helpful           object\n",
       "overall            int64\n",
       "reviewText        object\n",
       "reviewTime        object\n",
       "reviewerID        object\n",
       "summary           object\n",
       "unixReviewTime     int64\n",
       "dtype: object"
      ]
     },
     "execution_count": 11,
     "metadata": {},
     "output_type": "execute_result"
    }
   ],
   "source": [
    "df_reviews.dtypes"
   ]
  },
  {
   "cell_type": "markdown",
   "id": "f809c9a3-0026-4272-ba67-ccb0df028171",
   "metadata": {},
   "source": [
    "La columna **reviewTime** es la fecha de creacion de el review y es de tipo date, entonces la convertiremos a su tipo."
   ]
  },
  {
   "cell_type": "code",
   "execution_count": 12,
   "id": "26f0f50a-0397-4b29-a9ec-a7638bc7cce7",
   "metadata": {},
   "outputs": [],
   "source": [
    "df_reviews['reviewTime'] = df_reviews['reviewTime'].astype('datetime64[ns]')"
   ]
  },
  {
   "cell_type": "code",
   "execution_count": 13,
   "id": "d3fc5823-dfe7-4b7d-b119-d860bb43efd7",
   "metadata": {},
   "outputs": [
    {
     "data": {
      "text/plain": [
       "Unnamed: 0                 int64\n",
       "asin                      object\n",
       "helpful                   object\n",
       "overall                    int64\n",
       "reviewText                object\n",
       "reviewTime        datetime64[ns]\n",
       "reviewerID                object\n",
       "summary                   object\n",
       "unixReviewTime             int64\n",
       "dtype: object"
      ]
     },
     "execution_count": 13,
     "metadata": {},
     "output_type": "execute_result"
    }
   ],
   "source": [
    "df_reviews.dtypes"
   ]
  },
  {
   "cell_type": "markdown",
   "id": "5a295ad2-2ed3-492a-a6c8-a81dec8fa85e",
   "metadata": {},
   "source": [
    "### 2.3. Selección de atributos."
   ]
  },
  {
   "cell_type": "markdown",
   "id": "88ed5be5-d50d-4196-9b4d-bb86dd77fee5",
   "metadata": {},
   "source": [
    "Debido a que el objetivo del proyecto es encontrar la utilidad de las reviews de los libros, se considera solo la utilidad de la columna del texto de los reviews **reviewText** para el analisis , pues en ella se encuentra la informacion util para el procesamiento del lenguaje natural. Por tal motivo se descarta el uso de todas las otras columnas."
   ]
  },
  {
   "cell_type": "code",
   "execution_count": 92,
   "id": "f92d0e2c-ef8a-4506-8e4b-76ecc21b3239",
   "metadata": {},
   "outputs": [],
   "source": [
    "df_reviews_text = df_reviews.copy()"
   ]
  },
  {
   "cell_type": "code",
   "execution_count": 93,
   "id": "ac722af0-ed32-4849-ac27-c3b4e2119e51",
   "metadata": {},
   "outputs": [],
   "source": [
    "del df_reviews_text['Unnamed: 0']\n",
    "#del df_reviews_text['asin']\n",
    "del df_reviews_text['helpful']\n",
    "del df_reviews_text['overall']\n",
    "del df_reviews_text['reviewTime']\n",
    "del df_reviews_text['reviewerID']\n",
    "del df_reviews_text['summary']\n",
    "del df_reviews_text['unixReviewTime']"
   ]
  },
  {
   "cell_type": "code",
   "execution_count": 94,
   "id": "26abdee2-aec6-4878-a69d-7c5656ad3406",
   "metadata": {},
   "outputs": [
    {
     "data": {
      "text/html": [
       "<div>\n",
       "<style scoped>\n",
       "    .dataframe tbody tr th:only-of-type {\n",
       "        vertical-align: middle;\n",
       "    }\n",
       "\n",
       "    .dataframe tbody tr th {\n",
       "        vertical-align: top;\n",
       "    }\n",
       "\n",
       "    .dataframe thead th {\n",
       "        text-align: right;\n",
       "    }\n",
       "</style>\n",
       "<table border=\"1\" class=\"dataframe\">\n",
       "  <thead>\n",
       "    <tr style=\"text-align: right;\">\n",
       "      <th></th>\n",
       "      <th>asin</th>\n",
       "      <th>reviewText</th>\n",
       "    </tr>\n",
       "  </thead>\n",
       "  <tbody>\n",
       "    <tr>\n",
       "      <th>count</th>\n",
       "      <td>982596</td>\n",
       "      <td>982596</td>\n",
       "    </tr>\n",
       "    <tr>\n",
       "      <th>unique</th>\n",
       "      <td>61934</td>\n",
       "      <td>982266</td>\n",
       "    </tr>\n",
       "    <tr>\n",
       "      <th>top</th>\n",
       "      <td>B006GWO5WK</td>\n",
       "      <td>Good book</td>\n",
       "    </tr>\n",
       "    <tr>\n",
       "      <th>freq</th>\n",
       "      <td>1112</td>\n",
       "      <td>10</td>\n",
       "    </tr>\n",
       "  </tbody>\n",
       "</table>\n",
       "</div>"
      ],
      "text/plain": [
       "              asin reviewText\n",
       "count       982596     982596\n",
       "unique       61934     982266\n",
       "top     B006GWO5WK  Good book\n",
       "freq          1112         10"
      ]
     },
     "execution_count": 94,
     "metadata": {},
     "output_type": "execute_result"
    }
   ],
   "source": [
    "df_reviews_text.describe()"
   ]
  },
  {
   "cell_type": "markdown",
   "id": "06dfe4f1-9bbc-45b3-aad6-5785bc573193",
   "metadata": {},
   "source": [
    "## 3. Preparacion previa a los modelos."
   ]
  },
  {
   "cell_type": "markdown",
   "id": "49a6560f-adec-4192-8f7b-b28c8461ef89",
   "metadata": {},
   "source": [
    "Debido al alto volumen de datos y a las limitaciones computacionales que tenemos, se decide solo usar el 5% del total de los datos, que corresponde a 49130 registros. "
   ]
  },
  {
   "cell_type": "code",
   "execution_count": 95,
   "id": "6b622db8-4d91-4fc9-a0a5-6acd5d43750f",
   "metadata": {},
   "outputs": [],
   "source": [
    "#n=50 numero de muestras\n",
    "#frac=0.2 porcentaje de la muestra\n",
    "#random_state: siempre extrae las mismas filas\n",
    "df_reviews_text_m = df_reviews_text.sample(frac=0.05, random_state=1)\n"
   ]
  },
  {
   "cell_type": "code",
   "execution_count": 96,
   "id": "2d232daa-8d8c-409a-8014-60aed0df4e25",
   "metadata": {},
   "outputs": [
    {
     "data": {
      "text/plain": [
       "(49130, 2)"
      ]
     },
     "execution_count": 96,
     "metadata": {},
     "output_type": "execute_result"
    }
   ],
   "source": [
    "df_reviews_text_m.shape"
   ]
  },
  {
   "cell_type": "code",
   "execution_count": 97,
   "id": "96b1496d-c9bc-4b12-be2c-4bdd08fd95d4",
   "metadata": {},
   "outputs": [
    {
     "data": {
      "text/html": [
       "<div>\n",
       "<style scoped>\n",
       "    .dataframe tbody tr th:only-of-type {\n",
       "        vertical-align: middle;\n",
       "    }\n",
       "\n",
       "    .dataframe tbody tr th {\n",
       "        vertical-align: top;\n",
       "    }\n",
       "\n",
       "    .dataframe thead th {\n",
       "        text-align: right;\n",
       "    }\n",
       "</style>\n",
       "<table border=\"1\" class=\"dataframe\">\n",
       "  <thead>\n",
       "    <tr style=\"text-align: right;\">\n",
       "      <th></th>\n",
       "      <th>asin</th>\n",
       "      <th>reviewText</th>\n",
       "    </tr>\n",
       "  </thead>\n",
       "  <tbody>\n",
       "    <tr>\n",
       "      <th>186860</th>\n",
       "      <td>B007FIQMHU</td>\n",
       "      <td>A unique hero. A strong character who was sure...</td>\n",
       "    </tr>\n",
       "    <tr>\n",
       "      <th>248831</th>\n",
       "      <td>B008DQLNQI</td>\n",
       "      <td>If I paid I'd want a refund .. the characters ...</td>\n",
       "    </tr>\n",
       "    <tr>\n",
       "      <th>14010</th>\n",
       "      <td>B003A022GW</td>\n",
       "      <td>I enjoyed this second installment more than th...</td>\n",
       "    </tr>\n",
       "    <tr>\n",
       "      <th>907091</th>\n",
       "      <td>B00JVHPVZ2</td>\n",
       "      <td>This book tells you all about the different ki...</td>\n",
       "    </tr>\n",
       "  </tbody>\n",
       "</table>\n",
       "</div>"
      ],
      "text/plain": [
       "              asin                                         reviewText\n",
       "186860  B007FIQMHU  A unique hero. A strong character who was sure...\n",
       "248831  B008DQLNQI  If I paid I'd want a refund .. the characters ...\n",
       "14010   B003A022GW  I enjoyed this second installment more than th...\n",
       "907091  B00JVHPVZ2  This book tells you all about the different ki..."
      ]
     },
     "execution_count": 97,
     "metadata": {},
     "output_type": "execute_result"
    }
   ],
   "source": [
    "df_reviews_text_m.head(4)"
   ]
  },
  {
   "cell_type": "markdown",
   "id": "3b96b58f-b2c1-4815-a15c-dd97e9b6c119",
   "metadata": {},
   "source": [
    "### 3.1. Tokenización"
   ]
  },
  {
   "cell_type": "markdown",
   "id": "1bcb2098-a6a6-4a79-adf9-0b7c47507365",
   "metadata": {},
   "source": [
    "La tokenización permite dividir frases u oraciones en palabras. Con el fin de desglozar las palabras correctamente para el posterior análisis."
   ]
  },
  {
   "cell_type": "code",
   "execution_count": 98,
   "id": "0822b9f1-abfb-4121-b0d0-b0a8e8f2b32e",
   "metadata": {},
   "outputs": [
    {
     "name": "stdout",
     "output_type": "stream",
     "text": [
      "Esto es 1 ejemplo de l'limpieza de6 TEXTO  https://t.co/rnHPgyhx4Z @cienciadedatos #textmining\n",
      "['esto', 'es', 'ejemplo', 'de', 'limpieza', 'de', 'texto', 'cienciadedatos', 'textmining']\n"
     ]
    }
   ],
   "source": [
    "def limpiar_tokenizar(texto):\n",
    "    '''\n",
    "    Esta función limpia y tokeniza el texto en palabras individuales.\n",
    "    El orden en el que se va limpiando el texto no es arbitrario.\n",
    "    El listado de signos de puntuación se ha obtenido de: print(string.punctuation)\n",
    "    y re.escape(string.punctuation)\n",
    "    '''\n",
    "    \n",
    "    # Se convierte todo el texto a minúsculas\n",
    "    nuevo_texto = texto.lower()\n",
    "    # Eliminación de páginas web (palabras que empiezan por \"http\")\n",
    "    nuevo_texto = re.sub('http\\S+', ' ', nuevo_texto)\n",
    "    # Eliminación de signos de puntuación\n",
    "    regex = '[\\\\!\\\\\"\\\\#\\\\$\\\\%\\\\&\\\\\\'\\\\(\\\\)\\\\*\\\\+\\\\,\\\\-\\\\.\\\\/\\\\:\\\\;\\\\<\\\\=\\\\>\\\\?\\\\@\\\\[\\\\\\\\\\\\]\\\\^_\\\\`\\\\{\\\\|\\\\}\\\\~]'\n",
    "    nuevo_texto = re.sub(regex , ' ', nuevo_texto)\n",
    "    # Eliminación de números\n",
    "    nuevo_texto = re.sub(\"\\d+\", ' ', nuevo_texto)\n",
    "    # Eliminación de espacios en blanco múltiples\n",
    "    nuevo_texto = re.sub(\"\\\\s+\", ' ', nuevo_texto)\n",
    "    # Tokenización por palabras individuales\n",
    "    nuevo_texto = nuevo_texto.split(sep = ' ')\n",
    "    # Eliminación de tokens con una longitud < 2\n",
    "    nuevo_texto = [token for token in nuevo_texto if len(token) > 1]\n",
    "    \n",
    "    return(nuevo_texto)\n",
    "\n",
    "test = \"Esto es 1 ejemplo de l'limpieza de6 TEXTO  https://t.co/rnHPgyhx4Z @cienciadedatos #textmining\"\n",
    "print(test)\n",
    "print(limpiar_tokenizar(texto=test))"
   ]
  },
  {
   "cell_type": "markdown",
   "id": "95277711-69d5-4a08-ba48-19c4778c96fa",
   "metadata": {},
   "source": [
    "Se busca que mediante esta funcion, se limpie y se tokenice cada review."
   ]
  },
  {
   "cell_type": "code",
   "execution_count": 99,
   "id": "4e07c5fe-8ee1-4b19-8827-e093b4000d6d",
   "metadata": {},
   "outputs": [
    {
     "data": {
      "text/html": [
       "<div>\n",
       "<style scoped>\n",
       "    .dataframe tbody tr th:only-of-type {\n",
       "        vertical-align: middle;\n",
       "    }\n",
       "\n",
       "    .dataframe tbody tr th {\n",
       "        vertical-align: top;\n",
       "    }\n",
       "\n",
       "    .dataframe thead th {\n",
       "        text-align: right;\n",
       "    }\n",
       "</style>\n",
       "<table border=\"1\" class=\"dataframe\">\n",
       "  <thead>\n",
       "    <tr style=\"text-align: right;\">\n",
       "      <th></th>\n",
       "      <th>reviewText</th>\n",
       "      <th>texto_tokenizado</th>\n",
       "    </tr>\n",
       "  </thead>\n",
       "  <tbody>\n",
       "    <tr>\n",
       "      <th>186860</th>\n",
       "      <td>A unique hero. A strong character who was sure...</td>\n",
       "      <td>[unique, hero, strong, character, who, was, su...</td>\n",
       "    </tr>\n",
       "    <tr>\n",
       "      <th>248831</th>\n",
       "      <td>If I paid I'd want a refund .. the characters ...</td>\n",
       "      <td>[if, paid, want, refund, the, characters, are,...</td>\n",
       "    </tr>\n",
       "    <tr>\n",
       "      <th>14010</th>\n",
       "      <td>I enjoyed this second installment more than th...</td>\n",
       "      <td>[enjoyed, this, second, installment, more, tha...</td>\n",
       "    </tr>\n",
       "    <tr>\n",
       "      <th>907091</th>\n",
       "      <td>This book tells you all about the different ki...</td>\n",
       "      <td>[this, book, tells, you, all, about, the, diff...</td>\n",
       "    </tr>\n",
       "    <tr>\n",
       "      <th>334871</th>\n",
       "      <td>I am fast becoming a fan of Wanda B. Campbell....</td>\n",
       "      <td>[am, fast, becoming, fan, of, wanda, campbell,...</td>\n",
       "    </tr>\n",
       "  </tbody>\n",
       "</table>\n",
       "</div>"
      ],
      "text/plain": [
       "                                               reviewText  \\\n",
       "186860  A unique hero. A strong character who was sure...   \n",
       "248831  If I paid I'd want a refund .. the characters ...   \n",
       "14010   I enjoyed this second installment more than th...   \n",
       "907091  This book tells you all about the different ki...   \n",
       "334871  I am fast becoming a fan of Wanda B. Campbell....   \n",
       "\n",
       "                                         texto_tokenizado  \n",
       "186860  [unique, hero, strong, character, who, was, su...  \n",
       "248831  [if, paid, want, refund, the, characters, are,...  \n",
       "14010   [enjoyed, this, second, installment, more, tha...  \n",
       "907091  [this, book, tells, you, all, about, the, diff...  \n",
       "334871  [am, fast, becoming, fan, of, wanda, campbell,...  "
      ]
     },
     "execution_count": 99,
     "metadata": {},
     "output_type": "execute_result"
    }
   ],
   "source": [
    "# Se aplica la función de limpieza y tokenización a cada tweet\n",
    "# ==============================================================================\n",
    "df_reviews_text_m['texto_tokenizado'] = df_reviews_text_m['reviewText'].apply(lambda x: limpiar_tokenizar(x))\n",
    "df_reviews_text_m[['reviewText', 'texto_tokenizado']].head()"
   ]
  },
  {
   "cell_type": "markdown",
   "id": "7e93caf1-ba52-4ab3-8933-ce12309a5047",
   "metadata": {},
   "source": [
    "Para entender que caracteriza cada palabras, con qué frecuencia, así como el significado de las mismas."
   ]
  },
  {
   "cell_type": "code",
   "execution_count": 100,
   "id": "0743c603-9acd-409c-8cf8-d098a32a7054",
   "metadata": {},
   "outputs": [
    {
     "data": {
      "text/html": [
       "<div>\n",
       "<style scoped>\n",
       "    .dataframe tbody tr th:only-of-type {\n",
       "        vertical-align: middle;\n",
       "    }\n",
       "\n",
       "    .dataframe tbody tr th {\n",
       "        vertical-align: top;\n",
       "    }\n",
       "\n",
       "    .dataframe thead th {\n",
       "        text-align: right;\n",
       "    }\n",
       "</style>\n",
       "<table border=\"1\" class=\"dataframe\">\n",
       "  <thead>\n",
       "    <tr style=\"text-align: right;\">\n",
       "      <th></th>\n",
       "      <th>asin</th>\n",
       "      <th>token</th>\n",
       "    </tr>\n",
       "  </thead>\n",
       "  <tbody>\n",
       "    <tr>\n",
       "      <th>186860</th>\n",
       "      <td>B007FIQMHU</td>\n",
       "      <td>unique</td>\n",
       "    </tr>\n",
       "    <tr>\n",
       "      <th>186860</th>\n",
       "      <td>B007FIQMHU</td>\n",
       "      <td>hero</td>\n",
       "    </tr>\n",
       "    <tr>\n",
       "      <th>186860</th>\n",
       "      <td>B007FIQMHU</td>\n",
       "      <td>strong</td>\n",
       "    </tr>\n",
       "    <tr>\n",
       "      <th>186860</th>\n",
       "      <td>B007FIQMHU</td>\n",
       "      <td>character</td>\n",
       "    </tr>\n",
       "  </tbody>\n",
       "</table>\n",
       "</div>"
      ],
      "text/plain": [
       "              asin      token\n",
       "186860  B007FIQMHU     unique\n",
       "186860  B007FIQMHU       hero\n",
       "186860  B007FIQMHU     strong\n",
       "186860  B007FIQMHU  character"
      ]
     },
     "execution_count": 100,
     "metadata": {},
     "output_type": "execute_result"
    }
   ],
   "source": [
    "# Unnest de la columna texto_tokenizado\n",
    "# ==============================================================================\n",
    "df_reviews_text_m_tidy = df_reviews_text_m.explode(column='texto_tokenizado')\n",
    "df_reviews_text_m_tidy = df_reviews_text_m_tidy.drop(columns='reviewText')\n",
    "df_reviews_text_m_tidy = df_reviews_text_m_tidy.rename(columns={'texto_tokenizado':'token'})\n",
    "df_reviews_text_m_tidy.head(4)"
   ]
  },
  {
   "cell_type": "code",
   "execution_count": 105,
   "id": "61b4670a-7ffd-4e18-bf5d-9e097208c0f3",
   "metadata": {},
   "outputs": [
    {
     "name": "stdout",
     "output_type": "stream",
     "text": [
      "--------------------------\n",
      "Palabras totales usadas\n",
      "--------------------------\n"
     ]
    },
    {
     "data": {
      "text/plain": [
       "asin\n",
       "B000F83SZQ     52\n",
       "B000FA64PA     38\n",
       "B000FBFMVG    275\n",
       "B000FC2MB8    405\n",
       "B000JMKU0Y     61\n",
       "             ... \n",
       "B00LZFHL7Y    485\n",
       "B00LZKMXBI    287\n",
       "B00M029T4O    213\n",
       "B00M0RE7CS    138\n",
       "B00M13FNSS     71\n",
       "Name: token, Length: 27953, dtype: int64"
      ]
     },
     "execution_count": 105,
     "metadata": {},
     "output_type": "execute_result"
    }
   ],
   "source": [
    "# Palabras totales utilizadas \n",
    "# ==============================================================================\n",
    "print('--------------------------')\n",
    "print('Palabras totales usadas')\n",
    "print('--------------------------')\n",
    "df_reviews_text_m_tidy.groupby(by='asin')['token'].count()"
   ]
  },
  {
   "cell_type": "code",
   "execution_count": 106,
   "id": "36bff1d6-71a4-49eb-8b8e-70471efb1cfb",
   "metadata": {},
   "outputs": [
    {
     "name": "stdout",
     "output_type": "stream",
     "text": [
      "----------------------------\n",
      "Palabras distintas usadas\n",
      "----------------------------\n"
     ]
    },
    {
     "data": {
      "text/plain": [
       "asin\n",
       "B000F83SZQ     44\n",
       "B000FA64PA     33\n",
       "B000FBFMVG    176\n",
       "B000FC2MB8    227\n",
       "B000JMKU0Y     49\n",
       "             ... \n",
       "B00LZFHL7Y    237\n",
       "B00LZKMXBI    167\n",
       "B00M029T4O    132\n",
       "B00M0RE7CS    100\n",
       "B00M13FNSS     59\n",
       "Name: token, Length: 27953, dtype: int64"
      ]
     },
     "execution_count": 106,
     "metadata": {},
     "output_type": "execute_result"
    }
   ],
   "source": [
    "# Palabras distintas utilizadas \n",
    "# ==============================================================================\n",
    "print('----------------------------')\n",
    "print('Palabras distintas usadas')\n",
    "print('----------------------------')\n",
    "df_reviews_text_m_tidy.groupby(by='asin')['token'].nunique()"
   ]
  },
  {
   "cell_type": "code",
   "execution_count": 108,
   "id": "0ce8bb2f-a693-43e7-8c00-16b8363c9d06",
   "metadata": {},
   "outputs": [
    {
     "data": {
      "text/html": [
       "<div>\n",
       "<style scoped>\n",
       "    .dataframe tbody tr th:only-of-type {\n",
       "        vertical-align: middle;\n",
       "    }\n",
       "\n",
       "    .dataframe tbody tr th {\n",
       "        vertical-align: top;\n",
       "    }\n",
       "\n",
       "    .dataframe thead th {\n",
       "        text-align: right;\n",
       "    }\n",
       "</style>\n",
       "<table border=\"1\" class=\"dataframe\">\n",
       "  <thead>\n",
       "    <tr style=\"text-align: right;\">\n",
       "      <th></th>\n",
       "      <th></th>\n",
       "      <th>asin</th>\n",
       "      <th>token</th>\n",
       "      <th>count</th>\n",
       "    </tr>\n",
       "    <tr>\n",
       "      <th>asin</th>\n",
       "      <th></th>\n",
       "      <th></th>\n",
       "      <th></th>\n",
       "      <th></th>\n",
       "    </tr>\n",
       "  </thead>\n",
       "  <tbody>\n",
       "    <tr>\n",
       "      <th rowspan=\"5\" valign=\"top\">B000F83SZQ</th>\n",
       "      <th>32</th>\n",
       "      <td>B000F83SZQ</td>\n",
       "      <td>the</td>\n",
       "      <td>5</td>\n",
       "    </tr>\n",
       "    <tr>\n",
       "      <th>0</th>\n",
       "      <td>B000F83SZQ</td>\n",
       "      <td>and</td>\n",
       "      <td>2</td>\n",
       "    </tr>\n",
       "    <tr>\n",
       "      <th>12</th>\n",
       "      <td>B000F83SZQ</td>\n",
       "      <td>in</td>\n",
       "      <td>2</td>\n",
       "    </tr>\n",
       "    <tr>\n",
       "      <th>40</th>\n",
       "      <td>B000F83SZQ</td>\n",
       "      <td>was</td>\n",
       "      <td>2</td>\n",
       "    </tr>\n",
       "    <tr>\n",
       "      <th>30</th>\n",
       "      <td>B000F83SZQ</td>\n",
       "      <td>someone</td>\n",
       "      <td>2</td>\n",
       "    </tr>\n",
       "    <tr>\n",
       "      <th>...</th>\n",
       "      <th>...</th>\n",
       "      <td>...</td>\n",
       "      <td>...</td>\n",
       "      <td>...</td>\n",
       "    </tr>\n",
       "    <tr>\n",
       "      <th rowspan=\"5\" valign=\"top\">B00M13FNSS</th>\n",
       "      <th>2930785</th>\n",
       "      <td>B00M13FNSS</td>\n",
       "      <td>was</td>\n",
       "      <td>4</td>\n",
       "    </tr>\n",
       "    <tr>\n",
       "      <th>2930775</th>\n",
       "      <td>B00M13FNSS</td>\n",
       "      <td>that</td>\n",
       "      <td>3</td>\n",
       "    </tr>\n",
       "    <tr>\n",
       "      <th>2930731</th>\n",
       "      <td>B00M13FNSS</td>\n",
       "      <td>and</td>\n",
       "      <td>3</td>\n",
       "    </tr>\n",
       "    <tr>\n",
       "      <th>2930737</th>\n",
       "      <td>B00M13FNSS</td>\n",
       "      <td>damn</td>\n",
       "      <td>2</td>\n",
       "    </tr>\n",
       "    <tr>\n",
       "      <th>2930770</th>\n",
       "      <td>B00M13FNSS</td>\n",
       "      <td>she</td>\n",
       "      <td>2</td>\n",
       "    </tr>\n",
       "  </tbody>\n",
       "</table>\n",
       "<p>139706 rows × 3 columns</p>\n",
       "</div>"
      ],
      "text/plain": [
       "                          asin    token  count\n",
       "asin                                          \n",
       "B000F83SZQ 32       B000F83SZQ      the      5\n",
       "           0        B000F83SZQ      and      2\n",
       "           12       B000F83SZQ       in      2\n",
       "           40       B000F83SZQ      was      2\n",
       "           30       B000F83SZQ  someone      2\n",
       "...                        ...      ...    ...\n",
       "B00M13FNSS 2930785  B00M13FNSS      was      4\n",
       "           2930775  B00M13FNSS     that      3\n",
       "           2930731  B00M13FNSS      and      3\n",
       "           2930737  B00M13FNSS     damn      2\n",
       "           2930770  B00M13FNSS      she      2\n",
       "\n",
       "[139706 rows x 3 columns]"
      ]
     },
     "execution_count": 108,
     "metadata": {},
     "output_type": "execute_result"
    }
   ],
   "source": [
    "# Top 5 palabras más utilizadas por cada libro\n",
    "# ==============================================================================\n",
    "df_reviews_text_m_tidy.groupby(['asin','token'])['token'] \\\n",
    " .count() \\\n",
    " .reset_index(name='count') \\\n",
    " .groupby('asin') \\\n",
    " .apply(lambda x: x.sort_values('count', ascending=False).head(5))"
   ]
  },
  {
   "cell_type": "code",
   "execution_count": 113,
   "id": "ce422e0b-cfa6-4301-9d6f-749fafbea50d",
   "metadata": {},
   "outputs": [
    {
     "name": "stdout",
     "output_type": "stream",
     "text": [
      "['i', 'me', 'my', 'myself', 'we', 'our', 'ours', 'ourselves', 'you', \"you're\"]\n"
     ]
    }
   ],
   "source": [
    "# Obtención de listado de stopwords del inglés\n",
    "# ==============================================================================\n",
    "stop_words = list(stopwords.words('english'))\n",
    "# Se añade la stoprword: amp, ax, ex\n",
    "stop_words.extend((\"amp\", \"xa\", \"xe\"))\n",
    "print(stop_words[:10])"
   ]
  },
  {
   "cell_type": "code",
   "execution_count": 114,
   "id": "37d8c984-8712-46ea-87d4-ec6ed56c55fb",
   "metadata": {},
   "outputs": [],
   "source": [
    "# Filtrado para excluir stopwords\n",
    "# ==============================================================================\n",
    "df_reviews_text_m_tidy = df_reviews_text_m_tidy[~(df_reviews_text_m_tidy[\"token\"].isin(stop_words))]"
   ]
  },
  {
   "cell_type": "code",
   "execution_count": 127,
   "id": "f3636d33-1392-46f2-93b0-cc2039713192",
   "metadata": {},
   "outputs": [
    {
     "ename": "IndexError",
     "evalue": "index 4 is out of bounds for axis 0 with size 4",
     "output_type": "error",
     "traceback": [
      "\u001b[0;31m---------------------------------------------------------------------------\u001b[0m",
      "\u001b[0;31mIndexError\u001b[0m                                Traceback (most recent call last)",
      "\u001b[0;32m<ipython-input-127-1ebd3d752616>\u001b[0m in \u001b[0;36m<module>\u001b[0;34m\u001b[0m\n\u001b[1;32m      5\u001b[0m     \u001b[0mdf_temp\u001b[0m \u001b[0;34m=\u001b[0m \u001b[0mdf_reviews_text_m_tidy\u001b[0m\u001b[0;34m[\u001b[0m\u001b[0mdf_reviews_text_m_tidy\u001b[0m\u001b[0;34m.\u001b[0m\u001b[0masin\u001b[0m \u001b[0;34m==\u001b[0m \u001b[0mlibro\u001b[0m\u001b[0;34m]\u001b[0m\u001b[0;34m\u001b[0m\u001b[0;34m\u001b[0m\u001b[0m\n\u001b[1;32m      6\u001b[0m     \u001b[0mcounts\u001b[0m  \u001b[0;34m=\u001b[0m \u001b[0mdf_temp\u001b[0m\u001b[0;34m[\u001b[0m\u001b[0;34m'token'\u001b[0m\u001b[0;34m]\u001b[0m\u001b[0;34m.\u001b[0m\u001b[0mvalue_counts\u001b[0m\u001b[0;34m(\u001b[0m\u001b[0mascending\u001b[0m\u001b[0;34m=\u001b[0m\u001b[0;32mFalse\u001b[0m\u001b[0;34m)\u001b[0m\u001b[0;34m.\u001b[0m\u001b[0mhead\u001b[0m\u001b[0;34m(\u001b[0m\u001b[0;36m10\u001b[0m\u001b[0;34m)\u001b[0m\u001b[0;34m\u001b[0m\u001b[0;34m\u001b[0m\u001b[0m\n\u001b[0;32m----> 7\u001b[0;31m     \u001b[0mcounts\u001b[0m\u001b[0;34m.\u001b[0m\u001b[0mplot\u001b[0m\u001b[0;34m(\u001b[0m\u001b[0mkind\u001b[0m\u001b[0;34m=\u001b[0m\u001b[0;34m'barh'\u001b[0m\u001b[0;34m,\u001b[0m \u001b[0mcolor\u001b[0m\u001b[0;34m=\u001b[0m\u001b[0;34m'firebrick'\u001b[0m\u001b[0;34m,\u001b[0m \u001b[0max\u001b[0m\u001b[0;34m=\u001b[0m\u001b[0maxs\u001b[0m\u001b[0;34m[\u001b[0m\u001b[0mi\u001b[0m\u001b[0;34m]\u001b[0m\u001b[0;34m)\u001b[0m\u001b[0;34m\u001b[0m\u001b[0;34m\u001b[0m\u001b[0m\n\u001b[0m\u001b[1;32m      8\u001b[0m     \u001b[0maxs\u001b[0m\u001b[0;34m[\u001b[0m\u001b[0mi\u001b[0m\u001b[0;34m]\u001b[0m\u001b[0;34m.\u001b[0m\u001b[0minvert_yaxis\u001b[0m\u001b[0;34m(\u001b[0m\u001b[0;34m)\u001b[0m\u001b[0;34m\u001b[0m\u001b[0;34m\u001b[0m\u001b[0m\n\u001b[1;32m      9\u001b[0m     \u001b[0maxs\u001b[0m\u001b[0;34m[\u001b[0m\u001b[0mi\u001b[0m\u001b[0;34m]\u001b[0m\u001b[0;34m.\u001b[0m\u001b[0mset_title\u001b[0m\u001b[0;34m(\u001b[0m\u001b[0mlibro\u001b[0m\u001b[0;34m)\u001b[0m\u001b[0;34m\u001b[0m\u001b[0;34m\u001b[0m\u001b[0m\n",
      "\u001b[0;31mIndexError\u001b[0m: index 4 is out of bounds for axis 0 with size 4"
     ]
    },
    {
     "data": {
      "image/png": "[encoded data removed]",
      "text/plain": [
       "<Figure size 720x792 with 4 Axes>"
      ]
     },
     "metadata": {
      "needs_background": "light"
     },
     "output_type": "display_data"
    }
   ],
   "source": [
    "# Top 10 palabras por libro (sin stopwords)\n",
    "# ==============================================================================\n",
    "fig, axs = plt.subplots(nrows=4, ncols=1,figsize=(16, 11))\n",
    "for i, libro in enumerate(df_reviews_text_m_tidy.asin.unique()):\n",
    "    df_temp = df_reviews_text_m_tidy[df_reviews_text_m_tidy.asin == libro]\n",
    "    counts  = df_temp['token'].value_counts(ascending=False).head(10)\n",
    "    counts.plot(kind='barh', color='firebrick', ax=axs[i])\n",
    "    axs[i].invert_yaxis()\n",
    "    axs[i].set_title(libro)\n",
    "\n",
    "fig.tight_layout()"
   ]
  },
  {
   "cell_type": "code",
   "execution_count": null,
   "id": "a09a7d63-1d8f-4d5e-a400-c7cfcf0f0e1c",
   "metadata": {},
   "outputs": [],
   "source": []
  }
 ],
 "metadata": {
  "kernelspec": {
   "display_name": "Python 3",
   "language": "python",
   "name": "python3"
  },
  "language_info": {
   "codemirror_mode": {
    "name": "ipython",
    "version": 3
   },
   "file_extension": ".py",
   "mimetype": "text/x-python",
   "name": "python",
   "nbconvert_exporter": "python",
   "pygments_lexer": "ipython3",
   "version": "3.8.8"
  }
 },
 "nbformat": 4,
 "nbformat_minor": 5
}
