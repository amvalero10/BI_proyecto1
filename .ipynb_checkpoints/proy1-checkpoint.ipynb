{
 "cells": [
  {
   "cell_type": "markdown",
   "id": "eb37ea5b-c57a-4515-8a00-2d6fabeb755f",
   "metadata": {},
   "source": [
    "<img src=\"./img/banner.png\">"
   ]
  },
  {
   "cell_type": "markdown",
   "id": "1f6c4072-cfad-46a2-a492-956bc80815b7",
   "metadata": {},
   "source": [
    "# Proyecto 1\n",
    "\n",
    "1. Carga y exploración de datos.\n",
    "\n",
    "    1.1. Importación de librerias.\n",
    "    \n",
    "    1.2. Carga de datos.\n",
    "    \n",
    "    1.3. Exploración.\n",
    "    \n",
    "2. Limpieza y preparación de los datos.\n",
    "\n",
    "    2.1. Datos Nulos.\n",
    "\n",
    "    2.2. Tipo adecuado de cada atributo.\n",
    "    \n",
    "    2.3. Selección de atributos.\n",
    "        \n",
    "3. Preparacion previa a los modelos.\n",
    "\n",
    "    3.1. Tokenización.\n",
    "    \n",
    "    3.2. Stopwords.\n",
    "    \n",
    "    3.3. Analisis de sentimientos.\n",
    "\n",
    "4. Modelos\n",
    "\n",
    "    4.1. The multinomial Naive Bayes classifier.\n",
    "    \n",
    "    4.2. C-Support Vector Classification.\n",
    "    \n",
    "    4.3. -------\n",
    "    "
   ]
  },
  {
   "cell_type": "markdown",
   "id": "2209981a-bf3b-47bc-b125-d8ad66234b79",
   "metadata": {},
   "source": [
    "## 1. Carga y exploración de datos."
   ]
  },
  {
   "cell_type": "markdown",
   "id": "7c349bcf-43ad-4445-ad97-d55ce9fd9a6d",
   "metadata": {},
   "source": [
    "### 1.1. Importación de librerias."
   ]
  },
  {
   "cell_type": "code",
   "execution_count": 1,
   "id": "3d278399-78d9-4fa1-9a9c-a9e4087d1e52",
   "metadata": {},
   "outputs": [],
   "source": [
    "# Librerías para manejo de datos\n",
    "import pandas as pd\n",
    "import numpy as np\n",
    "import string\n",
    "import re\n",
    "\n",
    "\n",
    "# Preprocesado y modelado\n",
    "# ==============================================================================\n",
    "from sklearn import svm\n",
    "from sklearn.model_selection import train_test_split\n",
    "from sklearn.model_selection import GridSearchCV\n",
    "from sklearn.metrics import confusion_matrix\n",
    "from sklearn.feature_extraction.text import TfidfVectorizer\n",
    "import nltk\n",
    "#nltk.download('stopwords')\n",
    "from nltk.corpus import stopwords\n",
    "from scipy.spatial.distance import cosine\n",
    "\n",
    "from sklearn.metrics import classification_report, confusion_matrix, accuracy_score\n",
    "from sklearn.model_selection import train_test_split\n",
    "from sklearn.feature_extraction.text import CountVectorizer\n",
    "from sklearn.naive_bayes import MultinomialNB\n",
    "from sklearn.svm import SVC\n",
    "\n",
    "\n",
    "\n",
    "\n",
    "#Librerías para la visualización\n",
    "import matplotlib.pyplot as plt\n",
    "import seaborn as sns; sns.set()\n",
    "from matplotlib import style\n",
    "\n",
    "\n",
    "import warnings\n",
    "warnings.filterwarnings('ignore')\n",
    "\n",
    "%matplotlib inline\n",
    "\n"
   ]
  },
  {
   "cell_type": "code",
   "execution_count": 2,
   "id": "7e1625cb-761d-48b0-98eb-734bee4a52b6",
   "metadata": {},
   "outputs": [
    {
     "name": "stderr",
     "output_type": "stream",
     "text": [
      "[nltk_data] Downloading package stopwords to /Users/david/nltk_data...\n",
      "[nltk_data]   Package stopwords is already up-to-date!\n"
     ]
    },
    {
     "data": {
      "text/plain": [
       "True"
      ]
     },
     "execution_count": 2,
     "metadata": {},
     "output_type": "execute_result"
    }
   ],
   "source": [
    "nltk.download('stopwords') "
   ]
  },
  {
   "cell_type": "code",
   "execution_count": 3,
   "id": "1da85585-62ad-48b1-a6ca-1737973c1be3",
   "metadata": {},
   "outputs": [],
   "source": [
    "# carga de los datos\n",
    "# csv -> dataFrame\n",
    "df_reviews = pd.read_csv('./datos/kindle_reviews.csv', sep=',', encoding = 'utf-8' )"
   ]
  },
  {
   "cell_type": "markdown",
   "id": "5a1d1f9b-cb99-41dd-93d6-2fa3df484291",
   "metadata": {},
   "source": [
    "### 1.3. Exploración."
   ]
  },
  {
   "cell_type": "code",
   "execution_count": 4,
   "id": "7beb0479-9566-4160-b800-65046d1c0449",
   "metadata": {},
   "outputs": [
    {
     "data": {
      "text/plain": [
       "(982619, 10)"
      ]
     },
     "execution_count": 4,
     "metadata": {},
     "output_type": "execute_result"
    }
   ],
   "source": [
    "#cantidad de datos y numero de variables\n",
    "df_reviews.shape"
   ]
  },
  {
   "cell_type": "code",
   "execution_count": 5,
   "id": "3fa832eb-cafe-4c55-bc8e-5dc25633f540",
   "metadata": {},
   "outputs": [
    {
     "data": {
      "text/html": [
       "<div>\n",
       "<style scoped>\n",
       "    .dataframe tbody tr th:only-of-type {\n",
       "        vertical-align: middle;\n",
       "    }\n",
       "\n",
       "    .dataframe tbody tr th {\n",
       "        vertical-align: top;\n",
       "    }\n",
       "\n",
       "    .dataframe thead th {\n",
       "        text-align: right;\n",
       "    }\n",
       "</style>\n",
       "<table border=\"1\" class=\"dataframe\">\n",
       "  <thead>\n",
       "    <tr style=\"text-align: right;\">\n",
       "      <th></th>\n",
       "      <th>Unnamed: 0</th>\n",
       "      <th>asin</th>\n",
       "      <th>helpful</th>\n",
       "      <th>overall</th>\n",
       "      <th>reviewText</th>\n",
       "      <th>reviewTime</th>\n",
       "      <th>reviewerID</th>\n",
       "      <th>reviewerName</th>\n",
       "      <th>summary</th>\n",
       "      <th>unixReviewTime</th>\n",
       "    </tr>\n",
       "  </thead>\n",
       "  <tbody>\n",
       "    <tr>\n",
       "      <th>0</th>\n",
       "      <td>0</td>\n",
       "      <td>B000F83SZQ</td>\n",
       "      <td>[0, 0]</td>\n",
       "      <td>5</td>\n",
       "      <td>I enjoy vintage books and movies so I enjoyed ...</td>\n",
       "      <td>05 5, 2014</td>\n",
       "      <td>A1F6404F1VG29J</td>\n",
       "      <td>Avidreader</td>\n",
       "      <td>Nice vintage story</td>\n",
       "      <td>1399248000</td>\n",
       "    </tr>\n",
       "    <tr>\n",
       "      <th>1</th>\n",
       "      <td>1</td>\n",
       "      <td>B000F83SZQ</td>\n",
       "      <td>[2, 2]</td>\n",
       "      <td>4</td>\n",
       "      <td>This book is a reissue of an old one; the auth...</td>\n",
       "      <td>01 6, 2014</td>\n",
       "      <td>AN0N05A9LIJEQ</td>\n",
       "      <td>critters</td>\n",
       "      <td>Different...</td>\n",
       "      <td>1388966400</td>\n",
       "    </tr>\n",
       "    <tr>\n",
       "      <th>2</th>\n",
       "      <td>2</td>\n",
       "      <td>B000F83SZQ</td>\n",
       "      <td>[2, 2]</td>\n",
       "      <td>4</td>\n",
       "      <td>This was a fairly interesting read.  It had ol...</td>\n",
       "      <td>04 4, 2014</td>\n",
       "      <td>A795DMNCJILA6</td>\n",
       "      <td>dot</td>\n",
       "      <td>Oldie</td>\n",
       "      <td>1396569600</td>\n",
       "    </tr>\n",
       "    <tr>\n",
       "      <th>3</th>\n",
       "      <td>3</td>\n",
       "      <td>B000F83SZQ</td>\n",
       "      <td>[1, 1]</td>\n",
       "      <td>5</td>\n",
       "      <td>I'd never read any of the Amy Brewster mysteri...</td>\n",
       "      <td>02 19, 2014</td>\n",
       "      <td>A1FV0SX13TWVXQ</td>\n",
       "      <td>Elaine H. Turley \"Montana Songbird\"</td>\n",
       "      <td>I really liked it.</td>\n",
       "      <td>1392768000</td>\n",
       "    </tr>\n",
       "    <tr>\n",
       "      <th>4</th>\n",
       "      <td>4</td>\n",
       "      <td>B000F83SZQ</td>\n",
       "      <td>[0, 1]</td>\n",
       "      <td>4</td>\n",
       "      <td>If you like period pieces - clothing, lingo, y...</td>\n",
       "      <td>03 19, 2014</td>\n",
       "      <td>A3SPTOKDG7WBLN</td>\n",
       "      <td>Father Dowling Fan</td>\n",
       "      <td>Period Mystery</td>\n",
       "      <td>1395187200</td>\n",
       "    </tr>\n",
       "  </tbody>\n",
       "</table>\n",
       "</div>"
      ],
      "text/plain": [
       "   Unnamed: 0        asin helpful  overall  \\\n",
       "0           0  B000F83SZQ  [0, 0]        5   \n",
       "1           1  B000F83SZQ  [2, 2]        4   \n",
       "2           2  B000F83SZQ  [2, 2]        4   \n",
       "3           3  B000F83SZQ  [1, 1]        5   \n",
       "4           4  B000F83SZQ  [0, 1]        4   \n",
       "\n",
       "                                          reviewText   reviewTime  \\\n",
       "0  I enjoy vintage books and movies so I enjoyed ...   05 5, 2014   \n",
       "1  This book is a reissue of an old one; the auth...   01 6, 2014   \n",
       "2  This was a fairly interesting read.  It had ol...   04 4, 2014   \n",
       "3  I'd never read any of the Amy Brewster mysteri...  02 19, 2014   \n",
       "4  If you like period pieces - clothing, lingo, y...  03 19, 2014   \n",
       "\n",
       "       reviewerID                         reviewerName             summary  \\\n",
       "0  A1F6404F1VG29J                           Avidreader  Nice vintage story   \n",
       "1   AN0N05A9LIJEQ                             critters        Different...   \n",
       "2   A795DMNCJILA6                                  dot               Oldie   \n",
       "3  A1FV0SX13TWVXQ  Elaine H. Turley \"Montana Songbird\"  I really liked it.   \n",
       "4  A3SPTOKDG7WBLN                   Father Dowling Fan      Period Mystery   \n",
       "\n",
       "   unixReviewTime  \n",
       "0      1399248000  \n",
       "1      1388966400  \n",
       "2      1396569600  \n",
       "3      1392768000  \n",
       "4      1395187200  "
      ]
     },
     "execution_count": 5,
     "metadata": {},
     "output_type": "execute_result"
    }
   ],
   "source": [
    "# mostrar las 5 primeras 982597\n",
    "df_reviews.head(5)"
   ]
  },
  {
   "cell_type": "code",
   "execution_count": 6,
   "id": "c2aea164-b24f-4e8d-ad40-25a5c7bb164f",
   "metadata": {},
   "outputs": [
    {
     "data": {
      "text/plain": [
       "Unnamed: 0         int64\n",
       "asin              object\n",
       "helpful           object\n",
       "overall            int64\n",
       "reviewText        object\n",
       "reviewTime        object\n",
       "reviewerID        object\n",
       "reviewerName      object\n",
       "summary           object\n",
       "unixReviewTime     int64\n",
       "dtype: object"
      ]
     },
     "execution_count": 6,
     "metadata": {},
     "output_type": "execute_result"
    }
   ],
   "source": [
    "# ver todos los tipos de variables \n",
    "df_reviews.dtypes"
   ]
  },
  {
   "cell_type": "code",
   "execution_count": 7,
   "id": "9cdf3909-1ef6-4ace-a333-5cbcaa56b5e2",
   "metadata": {},
   "outputs": [
    {
     "data": {
      "text/plain": [
       "Unnamed: 0           0\n",
       "asin                 0\n",
       "helpful              0\n",
       "overall              0\n",
       "reviewText          22\n",
       "reviewTime           0\n",
       "reviewerID           0\n",
       "reviewerName      3816\n",
       "summary              1\n",
       "unixReviewTime       0\n",
       "dtype: int64"
      ]
     },
     "execution_count": 7,
     "metadata": {},
     "output_type": "execute_result"
    }
   ],
   "source": [
    "#cantidad de datos nulos\n",
    "df_reviews.isnull().sum()"
   ]
  },
  {
   "cell_type": "markdown",
   "id": "0b23a6e7-18a9-4e50-9e90-3a98abc756d5",
   "metadata": {},
   "source": [
    "## 2. Limpieza y preparación de los datos."
   ]
  },
  {
   "cell_type": "markdown",
   "id": "c392967c-7426-4c1a-be5b-ca2be9bb02f4",
   "metadata": {},
   "source": [
    "### 2.1. Datos Nulos."
   ]
  },
  {
   "cell_type": "markdown",
   "id": "033e546f-7ef3-436c-b50e-fa69dfb0b9b5",
   "metadata": {},
   "source": [
    "Primero procederemos a borrar los datos nulos de la columna **reviewText** con 22 nulos. Debido a que esta columna es de vital importancia, dado que son las reviews de determinado libros, los datos en ella son unicos, entonces es imposible saber el valor de esta columna."
   ]
  },
  {
   "cell_type": "code",
   "execution_count": 8,
   "id": "2673f2e5-2091-42bc-84ca-25b7a6d38db2",
   "metadata": {},
   "outputs": [],
   "source": [
    "df_reviews.dropna(subset = [\"reviewText\"], inplace=True)"
   ]
  },
  {
   "cell_type": "markdown",
   "id": "bdcf453d-d9de-407a-8008-13d326cc2ea3",
   "metadata": {},
   "source": [
    "La columna **reviewerName*** posee 3816 datos nulos. Esta columna hace referencia al nombre dado a determinada review. Debido a que esta columna posee una cantidad considerable de datos, se determina no borrar estos registro, pero si eliminar la columna, dado la cantidad de registros y el poco  aporte que pueda dar el nombre de la review a los modelos."
   ]
  },
  {
   "cell_type": "code",
   "execution_count": 9,
   "id": "7f954a77-3a53-4f0a-a6b1-996e27805333",
   "metadata": {},
   "outputs": [],
   "source": [
    "del df_reviews['reviewerName']"
   ]
  },
  {
   "cell_type": "markdown",
   "id": "2fd36e0b-3ed4-4a39-bec7-b43ad63f2905",
   "metadata": {},
   "source": [
    "Finalmente para la columna de **summary** que posee un dato nulo, se considera borrarla, debido a que es un dado desconocido y la cantidad de nulos no tienen un impacto significativo en el modelo."
   ]
  },
  {
   "cell_type": "code",
   "execution_count": 10,
   "id": "e5267561-8bfe-4352-a331-5c0c4d49258e",
   "metadata": {},
   "outputs": [],
   "source": [
    "df_reviews.dropna(subset = [\"summary\"], inplace=True)"
   ]
  },
  {
   "cell_type": "code",
   "execution_count": 11,
   "id": "e56e9dc3-9083-4541-97e3-f8409e11e2e1",
   "metadata": {},
   "outputs": [
    {
     "data": {
      "text/plain": [
       "Unnamed: 0        0\n",
       "asin              0\n",
       "helpful           0\n",
       "overall           0\n",
       "reviewText        0\n",
       "reviewTime        0\n",
       "reviewerID        0\n",
       "summary           0\n",
       "unixReviewTime    0\n",
       "dtype: int64"
      ]
     },
     "execution_count": 11,
     "metadata": {},
     "output_type": "execute_result"
    }
   ],
   "source": [
    "# cantidad de nulos\n",
    "df_reviews.isnull().sum()"
   ]
  },
  {
   "cell_type": "markdown",
   "id": "8f433c0a-13fa-404d-b690-a7cb92964af8",
   "metadata": {},
   "source": [
    "### 2.2. Tipo adecuado de cada atributo."
   ]
  },
  {
   "cell_type": "code",
   "execution_count": 12,
   "id": "25e57edc-589d-423f-b3a7-6246229c57b9",
   "metadata": {},
   "outputs": [
    {
     "data": {
      "text/plain": [
       "Unnamed: 0         int64\n",
       "asin              object\n",
       "helpful           object\n",
       "overall            int64\n",
       "reviewText        object\n",
       "reviewTime        object\n",
       "reviewerID        object\n",
       "summary           object\n",
       "unixReviewTime     int64\n",
       "dtype: object"
      ]
     },
     "execution_count": 12,
     "metadata": {},
     "output_type": "execute_result"
    }
   ],
   "source": [
    "df_reviews.dtypes"
   ]
  },
  {
   "cell_type": "markdown",
   "id": "f809c9a3-0026-4272-ba67-ccb0df028171",
   "metadata": {},
   "source": [
    "La columna **reviewTime** es la fecha de creacion de el review y es de tipo date, entonces la convertiremos a su tipo."
   ]
  },
  {
   "cell_type": "code",
   "execution_count": 13,
   "id": "26f0f50a-0397-4b29-a9ec-a7638bc7cce7",
   "metadata": {},
   "outputs": [],
   "source": [
    "df_reviews['reviewTime'] = df_reviews['reviewTime'].astype('datetime64[ns]')"
   ]
  },
  {
   "cell_type": "code",
   "execution_count": 14,
   "id": "d3fc5823-dfe7-4b7d-b119-d860bb43efd7",
   "metadata": {},
   "outputs": [
    {
     "data": {
      "text/plain": [
       "Unnamed: 0                 int64\n",
       "asin                      object\n",
       "helpful                   object\n",
       "overall                    int64\n",
       "reviewText                object\n",
       "reviewTime        datetime64[ns]\n",
       "reviewerID                object\n",
       "summary                   object\n",
       "unixReviewTime             int64\n",
       "dtype: object"
      ]
     },
     "execution_count": 14,
     "metadata": {},
     "output_type": "execute_result"
    }
   ],
   "source": [
    "df_reviews.dtypes"
   ]
  },
  {
   "cell_type": "markdown",
   "id": "5a295ad2-2ed3-492a-a6c8-a81dec8fa85e",
   "metadata": {},
   "source": [
    "### 2.3. Selección de atributos."
   ]
  },
  {
   "cell_type": "markdown",
   "id": "88ed5be5-d50d-4196-9b4d-bb86dd77fee5",
   "metadata": {},
   "source": [
    "Debido a que el objetivo del proyecto es encontrar la utilidad de las reviews de los libros, se considera de  utilidad  en un primer acercamientos las columnas de **overall**  **asin** - **reviewerID** - **reviewText** para el analisis, las cuales perteneces al puntaje del libro, id del libro, el id del reviewer y al texto del review respectivamente. En estas columnas se encuentra la informacion util para el procesamiento del lenguaje natural. Por tal motivo se descarta el uso de todas las otras columnas."
   ]
  },
  {
   "cell_type": "code",
   "execution_count": 15,
   "id": "f92d0e2c-ef8a-4506-8e4b-76ecc21b3239",
   "metadata": {},
   "outputs": [],
   "source": [
    "df_reviews_text = df_reviews.copy()"
   ]
  },
  {
   "cell_type": "code",
   "execution_count": 16,
   "id": "ac722af0-ed32-4849-ac27-c3b4e2119e51",
   "metadata": {},
   "outputs": [],
   "source": [
    "del df_reviews_text['Unnamed: 0']\n",
    "#del df_reviews_text['asin']\n",
    "del df_reviews_text['helpful']\n",
    "#del df_reviews_text['overall']\n",
    "del df_reviews_text['reviewTime']\n",
    "#del df_reviews_text['reviewerID']\n",
    "del df_reviews_text['summary']\n",
    "del df_reviews_text['unixReviewTime']"
   ]
  },
  {
   "cell_type": "code",
   "execution_count": 17,
   "id": "26abdee2-aec6-4878-a69d-7c5656ad3406",
   "metadata": {},
   "outputs": [
    {
     "data": {
      "text/html": [
       "<div>\n",
       "<style scoped>\n",
       "    .dataframe tbody tr th:only-of-type {\n",
       "        vertical-align: middle;\n",
       "    }\n",
       "\n",
       "    .dataframe tbody tr th {\n",
       "        vertical-align: top;\n",
       "    }\n",
       "\n",
       "    .dataframe thead th {\n",
       "        text-align: right;\n",
       "    }\n",
       "</style>\n",
       "<table border=\"1\" class=\"dataframe\">\n",
       "  <thead>\n",
       "    <tr style=\"text-align: right;\">\n",
       "      <th></th>\n",
       "      <th>overall</th>\n",
       "    </tr>\n",
       "  </thead>\n",
       "  <tbody>\n",
       "    <tr>\n",
       "      <th>count</th>\n",
       "      <td>982596.000000</td>\n",
       "    </tr>\n",
       "    <tr>\n",
       "      <th>mean</th>\n",
       "      <td>4.347791</td>\n",
       "    </tr>\n",
       "    <tr>\n",
       "      <th>std</th>\n",
       "      <td>0.955061</td>\n",
       "    </tr>\n",
       "    <tr>\n",
       "      <th>min</th>\n",
       "      <td>1.000000</td>\n",
       "    </tr>\n",
       "    <tr>\n",
       "      <th>25%</th>\n",
       "      <td>4.000000</td>\n",
       "    </tr>\n",
       "    <tr>\n",
       "      <th>50%</th>\n",
       "      <td>5.000000</td>\n",
       "    </tr>\n",
       "    <tr>\n",
       "      <th>75%</th>\n",
       "      <td>5.000000</td>\n",
       "    </tr>\n",
       "    <tr>\n",
       "      <th>max</th>\n",
       "      <td>5.000000</td>\n",
       "    </tr>\n",
       "  </tbody>\n",
       "</table>\n",
       "</div>"
      ],
      "text/plain": [
       "             overall\n",
       "count  982596.000000\n",
       "mean        4.347791\n",
       "std         0.955061\n",
       "min         1.000000\n",
       "25%         4.000000\n",
       "50%         5.000000\n",
       "75%         5.000000\n",
       "max         5.000000"
      ]
     },
     "execution_count": 17,
     "metadata": {},
     "output_type": "execute_result"
    }
   ],
   "source": [
    "df_reviews_text.describe()"
   ]
  },
  {
   "cell_type": "markdown",
   "id": "06dfe4f1-9bbc-45b3-aad6-5785bc573193",
   "metadata": {},
   "source": [
    "## 3. Preparacion previa a los modelos."
   ]
  },
  {
   "cell_type": "markdown",
   "id": "49a6560f-adec-4192-8f7b-b28c8461ef89",
   "metadata": {},
   "source": [
    "Debido al alto volumen de datos y a las limitaciones computacionales que tenemos, se decide solo usar el 5% del total de los datos, que corresponde a 49130 registros. "
   ]
  },
  {
   "cell_type": "code",
   "execution_count": 18,
   "id": "6b622db8-4d91-4fc9-a0a5-6acd5d43750f",
   "metadata": {},
   "outputs": [],
   "source": [
    "#n=50 numero de muestras\n",
    "#frac=0.2 porcentaje de la muestra\n",
    "#random_state: siempre extrae las mismas filas\n",
    "df_reviews_text_m = df_reviews_text.sample(frac=0.05, random_state=1)\n"
   ]
  },
  {
   "cell_type": "code",
   "execution_count": 19,
   "id": "2d232daa-8d8c-409a-8014-60aed0df4e25",
   "metadata": {},
   "outputs": [
    {
     "data": {
      "text/plain": [
       "(49130, 4)"
      ]
     },
     "execution_count": 19,
     "metadata": {},
     "output_type": "execute_result"
    }
   ],
   "source": [
    "df_reviews_text_m.shape"
   ]
  },
  {
   "cell_type": "code",
   "execution_count": 20,
   "id": "96b1496d-c9bc-4b12-be2c-4bdd08fd95d4",
   "metadata": {},
   "outputs": [
    {
     "data": {
      "text/html": [
       "<div>\n",
       "<style scoped>\n",
       "    .dataframe tbody tr th:only-of-type {\n",
       "        vertical-align: middle;\n",
       "    }\n",
       "\n",
       "    .dataframe tbody tr th {\n",
       "        vertical-align: top;\n",
       "    }\n",
       "\n",
       "    .dataframe thead th {\n",
       "        text-align: right;\n",
       "    }\n",
       "</style>\n",
       "<table border=\"1\" class=\"dataframe\">\n",
       "  <thead>\n",
       "    <tr style=\"text-align: right;\">\n",
       "      <th></th>\n",
       "      <th>asin</th>\n",
       "      <th>overall</th>\n",
       "      <th>reviewText</th>\n",
       "      <th>reviewerID</th>\n",
       "    </tr>\n",
       "  </thead>\n",
       "  <tbody>\n",
       "    <tr>\n",
       "      <th>186860</th>\n",
       "      <td>B007FIQMHU</td>\n",
       "      <td>5</td>\n",
       "      <td>A unique hero. A strong character who was sure...</td>\n",
       "      <td>A36T5VDRP7B7F</td>\n",
       "    </tr>\n",
       "    <tr>\n",
       "      <th>248831</th>\n",
       "      <td>B008DQLNQI</td>\n",
       "      <td>2</td>\n",
       "      <td>If I paid I'd want a refund .. the characters ...</td>\n",
       "      <td>AUD1LIFNPHREC</td>\n",
       "    </tr>\n",
       "    <tr>\n",
       "      <th>14010</th>\n",
       "      <td>B003A022GW</td>\n",
       "      <td>5</td>\n",
       "      <td>I enjoyed this second installment more than th...</td>\n",
       "      <td>A3AB3Z5R69HWLS</td>\n",
       "    </tr>\n",
       "    <tr>\n",
       "      <th>907091</th>\n",
       "      <td>B00JVHPVZ2</td>\n",
       "      <td>5</td>\n",
       "      <td>This book tells you all about the different ki...</td>\n",
       "      <td>AIIC0G14GVVV</td>\n",
       "    </tr>\n",
       "  </tbody>\n",
       "</table>\n",
       "</div>"
      ],
      "text/plain": [
       "              asin  overall  \\\n",
       "186860  B007FIQMHU        5   \n",
       "248831  B008DQLNQI        2   \n",
       "14010   B003A022GW        5   \n",
       "907091  B00JVHPVZ2        5   \n",
       "\n",
       "                                               reviewText      reviewerID  \n",
       "186860  A unique hero. A strong character who was sure...   A36T5VDRP7B7F  \n",
       "248831  If I paid I'd want a refund .. the characters ...   AUD1LIFNPHREC  \n",
       "14010   I enjoyed this second installment more than th...  A3AB3Z5R69HWLS  \n",
       "907091  This book tells you all about the different ki...    AIIC0G14GVVV  "
      ]
     },
     "execution_count": 20,
     "metadata": {},
     "output_type": "execute_result"
    }
   ],
   "source": [
    "df_reviews_text_m.head(4)"
   ]
  },
  {
   "cell_type": "markdown",
   "id": "3b96b58f-b2c1-4815-a15c-dd97e9b6c119",
   "metadata": {},
   "source": [
    "### 3.1. Tokenización"
   ]
  },
  {
   "cell_type": "markdown",
   "id": "1bcb2098-a6a6-4a79-adf9-0b7c47507365",
   "metadata": {},
   "source": [
    "La tokenización permite dividir frases u oraciones en palabras. Con el fin de desglozar las palabras correctamente para el posterior análisis."
   ]
  },
  {
   "cell_type": "code",
   "execution_count": 21,
   "id": "0822b9f1-abfb-4121-b0d0-b0a8e8f2b32e",
   "metadata": {},
   "outputs": [
    {
     "name": "stdout",
     "output_type": "stream",
     "text": [
      "Esto es 1 ejemplo de l'limpieza de6 TEXTO  https://t.co/rnHPgyhx4Z @cienciadedatos #textmining\n",
      "['esto', 'es', 'ejemplo', 'de', 'limpieza', 'de', 'texto', 'cienciadedatos', 'textmining']\n"
     ]
    }
   ],
   "source": [
    "def limpiar_tokenizar(texto):\n",
    "    '''\n",
    "    Esta función limpia y tokeniza el texto en palabras individuales.\n",
    "    El orden en el que se va limpiando el texto no es arbitrario.\n",
    "    El listado de signos de puntuación se ha obtenido de: print(string.punctuation)\n",
    "    y re.escape(string.punctuation)\n",
    "    '''\n",
    "    \n",
    "    # Se convierte todo el texto a minúsculas\n",
    "    nuevo_texto = texto.lower()\n",
    "    # Eliminación de páginas web (palabras que empiezan por \"http\")\n",
    "    nuevo_texto = re.sub('http\\S+', ' ', nuevo_texto)\n",
    "    # Eliminación de signos de puntuación\n",
    "    regex = '[\\\\!\\\\\"\\\\#\\\\$\\\\%\\\\&\\\\\\'\\\\(\\\\)\\\\*\\\\+\\\\,\\\\-\\\\.\\\\/\\\\:\\\\;\\\\<\\\\=\\\\>\\\\?\\\\@\\\\[\\\\\\\\\\\\]\\\\^_\\\\`\\\\{\\\\|\\\\}\\\\~]'\n",
    "    nuevo_texto = re.sub(regex , ' ', nuevo_texto)\n",
    "    # Eliminación de números\n",
    "    nuevo_texto = re.sub(\"\\d+\", ' ', nuevo_texto)\n",
    "    # Eliminación de espacios en blanco múltiples\n",
    "    nuevo_texto = re.sub(\"\\\\s+\", ' ', nuevo_texto)\n",
    "    # Tokenización por palabras individuales\n",
    "    nuevo_texto = nuevo_texto.split(sep = ' ')\n",
    "    # Eliminación de tokens con una longitud < 2\n",
    "    nuevo_texto = [token for token in nuevo_texto if len(token) > 1]\n",
    "    \n",
    "    return(nuevo_texto)\n",
    "\n",
    "test = \"Esto es 1 ejemplo de l'limpieza de6 TEXTO  https://t.co/rnHPgyhx4Z @cienciadedatos #textmining\"\n",
    "print(test)\n",
    "print(limpiar_tokenizar(texto=test))"
   ]
  },
  {
   "cell_type": "markdown",
   "id": "95277711-69d5-4a08-ba48-19c4778c96fa",
   "metadata": {},
   "source": [
    "Se busca que mediante esta funcion, se limpie y se tokenice cada review."
   ]
  },
  {
   "cell_type": "code",
   "execution_count": 22,
   "id": "4e07c5fe-8ee1-4b19-8827-e093b4000d6d",
   "metadata": {},
   "outputs": [
    {
     "data": {
      "text/html": [
       "<div>\n",
       "<style scoped>\n",
       "    .dataframe tbody tr th:only-of-type {\n",
       "        vertical-align: middle;\n",
       "    }\n",
       "\n",
       "    .dataframe tbody tr th {\n",
       "        vertical-align: top;\n",
       "    }\n",
       "\n",
       "    .dataframe thead th {\n",
       "        text-align: right;\n",
       "    }\n",
       "</style>\n",
       "<table border=\"1\" class=\"dataframe\">\n",
       "  <thead>\n",
       "    <tr style=\"text-align: right;\">\n",
       "      <th></th>\n",
       "      <th>reviewText</th>\n",
       "      <th>texto_tokenizado</th>\n",
       "    </tr>\n",
       "  </thead>\n",
       "  <tbody>\n",
       "    <tr>\n",
       "      <th>186860</th>\n",
       "      <td>A unique hero. A strong character who was sure...</td>\n",
       "      <td>[unique, hero, strong, character, who, was, su...</td>\n",
       "    </tr>\n",
       "    <tr>\n",
       "      <th>248831</th>\n",
       "      <td>If I paid I'd want a refund .. the characters ...</td>\n",
       "      <td>[if, paid, want, refund, the, characters, are,...</td>\n",
       "    </tr>\n",
       "    <tr>\n",
       "      <th>14010</th>\n",
       "      <td>I enjoyed this second installment more than th...</td>\n",
       "      <td>[enjoyed, this, second, installment, more, tha...</td>\n",
       "    </tr>\n",
       "    <tr>\n",
       "      <th>907091</th>\n",
       "      <td>This book tells you all about the different ki...</td>\n",
       "      <td>[this, book, tells, you, all, about, the, diff...</td>\n",
       "    </tr>\n",
       "    <tr>\n",
       "      <th>334871</th>\n",
       "      <td>I am fast becoming a fan of Wanda B. Campbell....</td>\n",
       "      <td>[am, fast, becoming, fan, of, wanda, campbell,...</td>\n",
       "    </tr>\n",
       "  </tbody>\n",
       "</table>\n",
       "</div>"
      ],
      "text/plain": [
       "                                               reviewText  \\\n",
       "186860  A unique hero. A strong character who was sure...   \n",
       "248831  If I paid I'd want a refund .. the characters ...   \n",
       "14010   I enjoyed this second installment more than th...   \n",
       "907091  This book tells you all about the different ki...   \n",
       "334871  I am fast becoming a fan of Wanda B. Campbell....   \n",
       "\n",
       "                                         texto_tokenizado  \n",
       "186860  [unique, hero, strong, character, who, was, su...  \n",
       "248831  [if, paid, want, refund, the, characters, are,...  \n",
       "14010   [enjoyed, this, second, installment, more, tha...  \n",
       "907091  [this, book, tells, you, all, about, the, diff...  \n",
       "334871  [am, fast, becoming, fan, of, wanda, campbell,...  "
      ]
     },
     "execution_count": 22,
     "metadata": {},
     "output_type": "execute_result"
    }
   ],
   "source": [
    "# Se aplica la función de limpieza y tokenización\n",
    "# ==============================================================================\n",
    "df_reviews_text_m['texto_tokenizado'] = df_reviews_text_m['reviewText'].apply(lambda x: limpiar_tokenizar(x))\n",
    "df_reviews_text_m[['reviewText', 'texto_tokenizado']].head()"
   ]
  },
  {
   "cell_type": "markdown",
   "id": "7e93caf1-ba52-4ab3-8933-ce12309a5047",
   "metadata": {},
   "source": [
    "Para entender que caracteriza cada palabras, con qué frecuencia, así como el significado de las mismas."
   ]
  },
  {
   "cell_type": "code",
   "execution_count": 23,
   "id": "0743c603-9acd-409c-8cf8-d098a32a7054",
   "metadata": {},
   "outputs": [
    {
     "data": {
      "text/html": [
       "<div>\n",
       "<style scoped>\n",
       "    .dataframe tbody tr th:only-of-type {\n",
       "        vertical-align: middle;\n",
       "    }\n",
       "\n",
       "    .dataframe tbody tr th {\n",
       "        vertical-align: top;\n",
       "    }\n",
       "\n",
       "    .dataframe thead th {\n",
       "        text-align: right;\n",
       "    }\n",
       "</style>\n",
       "<table border=\"1\" class=\"dataframe\">\n",
       "  <thead>\n",
       "    <tr style=\"text-align: right;\">\n",
       "      <th></th>\n",
       "      <th>asin</th>\n",
       "      <th>overall</th>\n",
       "      <th>reviewerID</th>\n",
       "      <th>token</th>\n",
       "    </tr>\n",
       "  </thead>\n",
       "  <tbody>\n",
       "    <tr>\n",
       "      <th>186860</th>\n",
       "      <td>B007FIQMHU</td>\n",
       "      <td>5</td>\n",
       "      <td>A36T5VDRP7B7F</td>\n",
       "      <td>unique</td>\n",
       "    </tr>\n",
       "    <tr>\n",
       "      <th>186860</th>\n",
       "      <td>B007FIQMHU</td>\n",
       "      <td>5</td>\n",
       "      <td>A36T5VDRP7B7F</td>\n",
       "      <td>hero</td>\n",
       "    </tr>\n",
       "    <tr>\n",
       "      <th>186860</th>\n",
       "      <td>B007FIQMHU</td>\n",
       "      <td>5</td>\n",
       "      <td>A36T5VDRP7B7F</td>\n",
       "      <td>strong</td>\n",
       "    </tr>\n",
       "    <tr>\n",
       "      <th>186860</th>\n",
       "      <td>B007FIQMHU</td>\n",
       "      <td>5</td>\n",
       "      <td>A36T5VDRP7B7F</td>\n",
       "      <td>character</td>\n",
       "    </tr>\n",
       "  </tbody>\n",
       "</table>\n",
       "</div>"
      ],
      "text/plain": [
       "              asin  overall     reviewerID      token\n",
       "186860  B007FIQMHU        5  A36T5VDRP7B7F     unique\n",
       "186860  B007FIQMHU        5  A36T5VDRP7B7F       hero\n",
       "186860  B007FIQMHU        5  A36T5VDRP7B7F     strong\n",
       "186860  B007FIQMHU        5  A36T5VDRP7B7F  character"
      ]
     },
     "execution_count": 23,
     "metadata": {},
     "output_type": "execute_result"
    }
   ],
   "source": [
    "# Unnest de la columna texto_tokenizado\n",
    "# ==============================================================================\n",
    "df_reviews_text_m_tidy = df_reviews_text_m.explode(column='texto_tokenizado')\n",
    "df_reviews_text_m_tidy = df_reviews_text_m_tidy.drop(columns='reviewText')\n",
    "df_reviews_text_m_tidy = df_reviews_text_m_tidy.rename(columns={'texto_tokenizado':'token'})\n",
    "df_reviews_text_m_tidy.head(4)"
   ]
  },
  {
   "cell_type": "code",
   "execution_count": 24,
   "id": "61b4670a-7ffd-4e18-bf5d-9e097208c0f3",
   "metadata": {},
   "outputs": [
    {
     "name": "stdout",
     "output_type": "stream",
     "text": [
      "--------------------------\n",
      "Palabras totales usadas en cada libro\n",
      "--------------------------\n"
     ]
    },
    {
     "data": {
      "text/plain": [
       "asin\n",
       "B000F83SZQ     52\n",
       "B000FA64PA     38\n",
       "B000FBFMVG    275\n",
       "B000FC2MB8    405\n",
       "B000JMKU0Y     61\n",
       "             ... \n",
       "B00LZFHL7Y    485\n",
       "B00LZKMXBI    287\n",
       "B00M029T4O    213\n",
       "B00M0RE7CS    138\n",
       "B00M13FNSS     71\n",
       "Name: token, Length: 27953, dtype: int64"
      ]
     },
     "execution_count": 24,
     "metadata": {},
     "output_type": "execute_result"
    }
   ],
   "source": [
    "# Palabras totales utilizadas\n",
    "# ==============================================================================\n",
    "print('--------------------------')\n",
    "print('Palabras totales usadas en cada libro')\n",
    "print('--------------------------')\n",
    "df_reviews_text_m_tidy.groupby(by='asin')['token'].count()"
   ]
  },
  {
   "cell_type": "code",
   "execution_count": 25,
   "id": "ddd0d16a-a6cf-4cd2-81bd-e579e6d191d6",
   "metadata": {},
   "outputs": [
    {
     "name": "stdout",
     "output_type": "stream",
     "text": [
      "--------------------------\n",
      "Palabras totales usadas de cada reviewer\n",
      "--------------------------\n"
     ]
    },
    {
     "data": {
      "text/plain": [
       "reviewerID\n",
       "A00207583M69Q8KX3BOFQ     19\n",
       "A00463782V7TKAP9EMNL      45\n",
       "A006458827ALF2J23JJTO     56\n",
       "A0090953K7LNUG6UPMI6      18\n",
       "A0099735VDZ3HDCAAYKL     153\n",
       "                        ... \n",
       "AZZMO52V8WZ68            175\n",
       "AZZN6N74U2PA5             76\n",
       "AZZPTYC0F6FWA             43\n",
       "AZZQRGF0PC6WF            431\n",
       "AZZW5NCOD8IA0             94\n",
       "Name: token, Length: 27875, dtype: int64"
      ]
     },
     "execution_count": 25,
     "metadata": {},
     "output_type": "execute_result"
    }
   ],
   "source": [
    "# Palabras totales utilizadas \n",
    "# ==============================================================================\n",
    "print('--------------------------')\n",
    "print('Palabras totales usadas de cada reviewer')\n",
    "print('--------------------------')\n",
    "df_reviews_text_m_tidy.groupby(by='reviewerID')['token'].count()"
   ]
  },
  {
   "cell_type": "code",
   "execution_count": 26,
   "id": "36bff1d6-71a4-49eb-8b8e-70471efb1cfb",
   "metadata": {},
   "outputs": [
    {
     "name": "stdout",
     "output_type": "stream",
     "text": [
      "----------------------------\n",
      "Palabras distintas usadas en cada libro\n",
      "----------------------------\n"
     ]
    },
    {
     "data": {
      "text/plain": [
       "asin\n",
       "B000F83SZQ     44\n",
       "B000FA64PA     33\n",
       "B000FBFMVG    176\n",
       "B000FC2MB8    227\n",
       "B000JMKU0Y     49\n",
       "             ... \n",
       "B00LZFHL7Y    237\n",
       "B00LZKMXBI    167\n",
       "B00M029T4O    132\n",
       "B00M0RE7CS    100\n",
       "B00M13FNSS     59\n",
       "Name: token, Length: 27953, dtype: int64"
      ]
     },
     "execution_count": 26,
     "metadata": {},
     "output_type": "execute_result"
    }
   ],
   "source": [
    "# Palabras distintas utilizadas \n",
    "# ==============================================================================\n",
    "print('----------------------------')\n",
    "print('Palabras distintas usadas en cada libro')\n",
    "print('----------------------------')\n",
    "df_reviews_text_m_tidy.groupby(by='asin')['token'].nunique()"
   ]
  },
  {
   "cell_type": "code",
   "execution_count": 27,
   "id": "185a0d97-81e5-4910-a4bb-738118e6f6d0",
   "metadata": {},
   "outputs": [
    {
     "name": "stdout",
     "output_type": "stream",
     "text": [
      "----------------------------\n",
      "Palabras distintas usadas por cada reviewer\n",
      "----------------------------\n"
     ]
    },
    {
     "data": {
      "text/plain": [
       "reviewerID\n",
       "A00207583M69Q8KX3BOFQ     16\n",
       "A00463782V7TKAP9EMNL      38\n",
       "A006458827ALF2J23JJTO     43\n",
       "A0090953K7LNUG6UPMI6      16\n",
       "A0099735VDZ3HDCAAYKL      86\n",
       "                        ... \n",
       "AZZMO52V8WZ68            114\n",
       "AZZN6N74U2PA5             61\n",
       "AZZPTYC0F6FWA             37\n",
       "AZZQRGF0PC6WF            228\n",
       "AZZW5NCOD8IA0             67\n",
       "Name: token, Length: 27875, dtype: int64"
      ]
     },
     "execution_count": 27,
     "metadata": {},
     "output_type": "execute_result"
    }
   ],
   "source": [
    "# Palabras distintas utilizadas \n",
    "# ==============================================================================\n",
    "print('----------------------------')\n",
    "print('Palabras distintas usadas por cada reviewer')\n",
    "print('----------------------------')\n",
    "df_reviews_text_m_tidy.groupby(by='reviewerID')['token'].nunique()"
   ]
  },
  {
   "cell_type": "code",
   "execution_count": 28,
   "id": "0ce8bb2f-a693-43e7-8c00-16b8363c9d06",
   "metadata": {},
   "outputs": [
    {
     "data": {
      "text/html": [
       "<div>\n",
       "<style scoped>\n",
       "    .dataframe tbody tr th:only-of-type {\n",
       "        vertical-align: middle;\n",
       "    }\n",
       "\n",
       "    .dataframe tbody tr th {\n",
       "        vertical-align: top;\n",
       "    }\n",
       "\n",
       "    .dataframe thead th {\n",
       "        text-align: right;\n",
       "    }\n",
       "</style>\n",
       "<table border=\"1\" class=\"dataframe\">\n",
       "  <thead>\n",
       "    <tr style=\"text-align: right;\">\n",
       "      <th></th>\n",
       "      <th></th>\n",
       "      <th>asin</th>\n",
       "      <th>token</th>\n",
       "      <th>count</th>\n",
       "    </tr>\n",
       "    <tr>\n",
       "      <th>asin</th>\n",
       "      <th></th>\n",
       "      <th></th>\n",
       "      <th></th>\n",
       "      <th></th>\n",
       "    </tr>\n",
       "  </thead>\n",
       "  <tbody>\n",
       "    <tr>\n",
       "      <th rowspan=\"5\" valign=\"top\">B000F83SZQ</th>\n",
       "      <th>32</th>\n",
       "      <td>B000F83SZQ</td>\n",
       "      <td>the</td>\n",
       "      <td>5</td>\n",
       "    </tr>\n",
       "    <tr>\n",
       "      <th>0</th>\n",
       "      <td>B000F83SZQ</td>\n",
       "      <td>and</td>\n",
       "      <td>2</td>\n",
       "    </tr>\n",
       "    <tr>\n",
       "      <th>12</th>\n",
       "      <td>B000F83SZQ</td>\n",
       "      <td>in</td>\n",
       "      <td>2</td>\n",
       "    </tr>\n",
       "    <tr>\n",
       "      <th>40</th>\n",
       "      <td>B000F83SZQ</td>\n",
       "      <td>was</td>\n",
       "      <td>2</td>\n",
       "    </tr>\n",
       "    <tr>\n",
       "      <th>30</th>\n",
       "      <td>B000F83SZQ</td>\n",
       "      <td>someone</td>\n",
       "      <td>2</td>\n",
       "    </tr>\n",
       "    <tr>\n",
       "      <th>...</th>\n",
       "      <th>...</th>\n",
       "      <td>...</td>\n",
       "      <td>...</td>\n",
       "      <td>...</td>\n",
       "    </tr>\n",
       "    <tr>\n",
       "      <th rowspan=\"5\" valign=\"top\">B00M13FNSS</th>\n",
       "      <th>2930785</th>\n",
       "      <td>B00M13FNSS</td>\n",
       "      <td>was</td>\n",
       "      <td>4</td>\n",
       "    </tr>\n",
       "    <tr>\n",
       "      <th>2930775</th>\n",
       "      <td>B00M13FNSS</td>\n",
       "      <td>that</td>\n",
       "      <td>3</td>\n",
       "    </tr>\n",
       "    <tr>\n",
       "      <th>2930731</th>\n",
       "      <td>B00M13FNSS</td>\n",
       "      <td>and</td>\n",
       "      <td>3</td>\n",
       "    </tr>\n",
       "    <tr>\n",
       "      <th>2930737</th>\n",
       "      <td>B00M13FNSS</td>\n",
       "      <td>damn</td>\n",
       "      <td>2</td>\n",
       "    </tr>\n",
       "    <tr>\n",
       "      <th>2930770</th>\n",
       "      <td>B00M13FNSS</td>\n",
       "      <td>she</td>\n",
       "      <td>2</td>\n",
       "    </tr>\n",
       "  </tbody>\n",
       "</table>\n",
       "<p>139706 rows × 3 columns</p>\n",
       "</div>"
      ],
      "text/plain": [
       "                          asin    token  count\n",
       "asin                                          \n",
       "B000F83SZQ 32       B000F83SZQ      the      5\n",
       "           0        B000F83SZQ      and      2\n",
       "           12       B000F83SZQ       in      2\n",
       "           40       B000F83SZQ      was      2\n",
       "           30       B000F83SZQ  someone      2\n",
       "...                        ...      ...    ...\n",
       "B00M13FNSS 2930785  B00M13FNSS      was      4\n",
       "           2930775  B00M13FNSS     that      3\n",
       "           2930731  B00M13FNSS      and      3\n",
       "           2930737  B00M13FNSS     damn      2\n",
       "           2930770  B00M13FNSS      she      2\n",
       "\n",
       "[139706 rows x 3 columns]"
      ]
     },
     "execution_count": 28,
     "metadata": {},
     "output_type": "execute_result"
    }
   ],
   "source": [
    "# Top 5 palabras más utilizadas por cada libro\n",
    "# ==============================================================================\n",
    "df_reviews_text_m_tidy.groupby(['asin','token'])['token'] \\\n",
    " .count() \\\n",
    " .reset_index(name='count') \\\n",
    " .groupby('asin') \\\n",
    " .apply(lambda x: x.sort_values('count', ascending=False).head(5))"
   ]
  },
  {
   "cell_type": "code",
   "execution_count": 29,
   "id": "c20b4271-4f41-44bf-9b9b-0917bb6fec2d",
   "metadata": {},
   "outputs": [
    {
     "data": {
      "text/html": [
       "<div>\n",
       "<style scoped>\n",
       "    .dataframe tbody tr th:only-of-type {\n",
       "        vertical-align: middle;\n",
       "    }\n",
       "\n",
       "    .dataframe tbody tr th {\n",
       "        vertical-align: top;\n",
       "    }\n",
       "\n",
       "    .dataframe thead th {\n",
       "        text-align: right;\n",
       "    }\n",
       "</style>\n",
       "<table border=\"1\" class=\"dataframe\">\n",
       "  <thead>\n",
       "    <tr style=\"text-align: right;\">\n",
       "      <th></th>\n",
       "      <th></th>\n",
       "      <th>reviewerID</th>\n",
       "      <th>token</th>\n",
       "      <th>count</th>\n",
       "    </tr>\n",
       "    <tr>\n",
       "      <th>reviewerID</th>\n",
       "      <th></th>\n",
       "      <th></th>\n",
       "      <th></th>\n",
       "      <th></th>\n",
       "    </tr>\n",
       "  </thead>\n",
       "  <tbody>\n",
       "    <tr>\n",
       "      <th rowspan=\"5\" valign=\"top\">A00207583M69Q8KX3BOFQ</th>\n",
       "      <th>5</th>\n",
       "      <td>A00207583M69Q8KX3BOFQ</td>\n",
       "      <td>enjoyable</td>\n",
       "      <td>2</td>\n",
       "    </tr>\n",
       "    <tr>\n",
       "      <th>7</th>\n",
       "      <td>A00207583M69Q8KX3BOFQ</td>\n",
       "      <td>great</td>\n",
       "      <td>2</td>\n",
       "    </tr>\n",
       "    <tr>\n",
       "      <th>8</th>\n",
       "      <td>A00207583M69Q8KX3BOFQ</td>\n",
       "      <td>is</td>\n",
       "      <td>2</td>\n",
       "    </tr>\n",
       "    <tr>\n",
       "      <th>0</th>\n",
       "      <td>A00207583M69Q8KX3BOFQ</td>\n",
       "      <td>are</td>\n",
       "      <td>1</td>\n",
       "    </tr>\n",
       "    <tr>\n",
       "      <th>1</th>\n",
       "      <td>A00207583M69Q8KX3BOFQ</td>\n",
       "      <td>boxed</td>\n",
       "      <td>1</td>\n",
       "    </tr>\n",
       "    <tr>\n",
       "      <th>...</th>\n",
       "      <th>...</th>\n",
       "      <td>...</td>\n",
       "      <td>...</td>\n",
       "      <td>...</td>\n",
       "    </tr>\n",
       "    <tr>\n",
       "      <th rowspan=\"5\" valign=\"top\">AZZW5NCOD8IA0</th>\n",
       "      <th>2744215</th>\n",
       "      <td>AZZW5NCOD8IA0</td>\n",
       "      <td>the</td>\n",
       "      <td>6</td>\n",
       "    </tr>\n",
       "    <tr>\n",
       "      <th>2744212</th>\n",
       "      <td>AZZW5NCOD8IA0</td>\n",
       "      <td>so</td>\n",
       "      <td>4</td>\n",
       "    </tr>\n",
       "    <tr>\n",
       "      <th>2744165</th>\n",
       "      <td>AZZW5NCOD8IA0</td>\n",
       "      <td>and</td>\n",
       "      <td>3</td>\n",
       "    </tr>\n",
       "    <tr>\n",
       "      <th>2744196</th>\n",
       "      <td>AZZW5NCOD8IA0</td>\n",
       "      <td>loved</td>\n",
       "      <td>3</td>\n",
       "    </tr>\n",
       "    <tr>\n",
       "      <th>2744192</th>\n",
       "      <td>AZZW5NCOD8IA0</td>\n",
       "      <td>is</td>\n",
       "      <td>3</td>\n",
       "    </tr>\n",
       "  </tbody>\n",
       "</table>\n",
       "<p>139277 rows × 3 columns</p>\n",
       "</div>"
      ],
      "text/plain": [
       "                                          reviewerID      token  count\n",
       "reviewerID                                                            \n",
       "A00207583M69Q8KX3BOFQ 5        A00207583M69Q8KX3BOFQ  enjoyable      2\n",
       "                      7        A00207583M69Q8KX3BOFQ      great      2\n",
       "                      8        A00207583M69Q8KX3BOFQ         is      2\n",
       "                      0        A00207583M69Q8KX3BOFQ        are      1\n",
       "                      1        A00207583M69Q8KX3BOFQ      boxed      1\n",
       "...                                              ...        ...    ...\n",
       "AZZW5NCOD8IA0         2744215          AZZW5NCOD8IA0        the      6\n",
       "                      2744212          AZZW5NCOD8IA0         so      4\n",
       "                      2744165          AZZW5NCOD8IA0        and      3\n",
       "                      2744196          AZZW5NCOD8IA0      loved      3\n",
       "                      2744192          AZZW5NCOD8IA0         is      3\n",
       "\n",
       "[139277 rows x 3 columns]"
      ]
     },
     "execution_count": 29,
     "metadata": {},
     "output_type": "execute_result"
    }
   ],
   "source": [
    "# Top 5 palabras más utilizadas por cada reviewer\n",
    "# ==============================================================================\n",
    "df_reviews_text_m_tidy.groupby(['reviewerID','token'])['token'] \\\n",
    " .count() \\\n",
    " .reset_index(name='count') \\\n",
    " .groupby('reviewerID') \\\n",
    " .apply(lambda x: x.sort_values('count', ascending=False).head(5))"
   ]
  },
  {
   "cell_type": "markdown",
   "id": "456dd08b-3b04-4309-9bae-0012c7b5da4b",
   "metadata": {},
   "source": [
    "### 3.2. Stopwords"
   ]
  },
  {
   "cell_type": "code",
   "execution_count": 30,
   "id": "ce422e0b-cfa6-4301-9d6f-749fafbea50d",
   "metadata": {},
   "outputs": [
    {
     "name": "stdout",
     "output_type": "stream",
     "text": [
      "['i', 'me', 'my', 'myself', 'we', 'our', 'ours', 'ourselves', 'you', \"you're\"]\n"
     ]
    }
   ],
   "source": [
    "# Obtención de listado de stopwords del inglés\n",
    "# ==============================================================================\n",
    "stop_words = list(stopwords.words('english'))\n",
    "# Se añade la stoprword: amp, ax, ex\n",
    "stop_words.extend((\"amp\", \"xa\", \"xe\"))\n",
    "print(stop_words[:10])"
   ]
  },
  {
   "cell_type": "code",
   "execution_count": 31,
   "id": "37d8c984-8712-46ea-87d4-ec6ed56c55fb",
   "metadata": {},
   "outputs": [],
   "source": [
    "# Filtrado para excluir stopwords\n",
    "# ==============================================================================\n",
    "df_reviews_text_m_tidy = df_reviews_text_m_tidy[~(df_reviews_text_m_tidy[\"token\"].isin(stop_words))]"
   ]
  },
  {
   "cell_type": "code",
   "execution_count": 32,
   "id": "f3636d33-1392-46f2-93b0-cc2039713192",
   "metadata": {},
   "outputs": [
    {
     "data": {
      "image/png": "[encoded data removed]",
      "text/plain": [
       "<Figure size 576x1008 with 3 Axes>"
      ]
     },
     "metadata": {
      "needs_background": "light"
     },
     "output_type": "display_data"
    }
   ],
   "source": [
    "# Top 10 palabras por autor (sin stopwords)\n",
    "# ==============================================================================\n",
    "fig, axs = plt.subplots(nrows=3, ncols=1,figsize=(8, 14))\n",
    "\n",
    "for i, autor in enumerate(df_reviews_text_m_tidy.reviewerID.unique()):\n",
    "    df_temp = df_reviews_text_m_tidy[df_reviews_text_m_tidy.reviewerID == autor]\n",
    "    counts  = df_temp['token'].value_counts(ascending=False).head(10)\n",
    "    \n",
    "    counts.plot(kind='barh', color='firebrick', ax=axs[i])\n",
    "    axs[i].invert_yaxis()\n",
    "    axs[i].set_title(autor)\n",
    "    if (i>=2) :\n",
    "        break\n",
    "\n",
    "fig.tight_layout()"
   ]
  },
  {
   "cell_type": "code",
   "execution_count": 33,
   "id": "a09a7d63-1d8f-4d5e-a400-c7cfcf0f0e1c",
   "metadata": {},
   "outputs": [
    {
     "data": {
      "image/png": "[encoded data removed]",
      "text/plain": [
       "<Figure size 576x1008 with 3 Axes>"
      ]
     },
     "metadata": {
      "needs_background": "light"
     },
     "output_type": "display_data"
    }
   ],
   "source": [
    "# Top 10 palabras por libro (sin stopwords)\n",
    "# ==============================================================================\n",
    "fig, axs = plt.subplots(nrows=3, ncols=1,figsize=(8, 14))\n",
    "\n",
    "for i, autor in enumerate(df_reviews_text_m_tidy.asin.unique()):\n",
    "    df_temp = df_reviews_text_m_tidy[df_reviews_text_m_tidy.asin == autor]\n",
    "    counts  = df_temp['token'].value_counts(ascending=False).head(10)\n",
    "    counts.plot(kind='barh', ax=axs[i])\n",
    "    axs[i].invert_yaxis()\n",
    "    axs[i].set_title(autor)\n",
    "    if (i>=2) :\n",
    "        break\n",
    "fig.tight_layout()"
   ]
  },
  {
   "cell_type": "markdown",
   "id": "a2f9f0d5-0f5e-45d8-9a60-931cb86fa613",
   "metadata": {},
   "source": [
    "### 3.3. Analisis de sentimientos"
   ]
  },
  {
   "cell_type": "markdown",
   "id": "0fd9de79-2dac-4700-83ae-5259edbd8994",
   "metadata": {},
   "source": [
    "A continuación se procede a descargar un diccionario que asigna a cada palabra un numero. Dependiendo del sentimiento de esta palabra puede ser negativa o positiva, entonces para conocer el sentimiento de una review la suma de las palabras determinan si la review es positiva o negariva."
   ]
  },
  {
   "cell_type": "code",
   "execution_count": 34,
   "id": "6f6866ee-7e7f-4718-8a7d-ed8c6cf173ba",
   "metadata": {},
   "outputs": [
    {
     "data": {
      "text/html": [
       "<div>\n",
       "<style scoped>\n",
       "    .dataframe tbody tr th:only-of-type {\n",
       "        vertical-align: middle;\n",
       "    }\n",
       "\n",
       "    .dataframe tbody tr th {\n",
       "        vertical-align: top;\n",
       "    }\n",
       "\n",
       "    .dataframe thead th {\n",
       "        text-align: right;\n",
       "    }\n",
       "</style>\n",
       "<table border=\"1\" class=\"dataframe\">\n",
       "  <thead>\n",
       "    <tr style=\"text-align: right;\">\n",
       "      <th></th>\n",
       "      <th>termino</th>\n",
       "      <th>sentimiento</th>\n",
       "    </tr>\n",
       "  </thead>\n",
       "  <tbody>\n",
       "    <tr>\n",
       "      <th>3379</th>\n",
       "      <td>zealot</td>\n",
       "      <td>-2</td>\n",
       "    </tr>\n",
       "    <tr>\n",
       "      <th>250</th>\n",
       "      <td>averts</td>\n",
       "      <td>-1</td>\n",
       "    </tr>\n",
       "    <tr>\n",
       "      <th>829</th>\n",
       "      <td>desirable</td>\n",
       "      <td>2</td>\n",
       "    </tr>\n",
       "    <tr>\n",
       "      <th>2063</th>\n",
       "      <td>mischief</td>\n",
       "      <td>-1</td>\n",
       "    </tr>\n",
       "    <tr>\n",
       "      <th>2355</th>\n",
       "      <td>poisons</td>\n",
       "      <td>-2</td>\n",
       "    </tr>\n",
       "    <tr>\n",
       "      <th>391</th>\n",
       "      <td>breakthrough</td>\n",
       "      <td>3</td>\n",
       "    </tr>\n",
       "  </tbody>\n",
       "</table>\n",
       "</div>"
      ],
      "text/plain": [
       "           termino  sentimiento\n",
       "3379        zealot           -2\n",
       "250         averts           -1\n",
       "829      desirable            2\n",
       "2063      mischief           -1\n",
       "2355       poisons           -2\n",
       "391   breakthrough            3"
      ]
     },
     "execution_count": 34,
     "metadata": {},
     "output_type": "execute_result"
    }
   ],
   "source": [
    "# Descarga lexicon sentimientos\n",
    "# ==============================================================================\n",
    "lexicon = pd.read_table(\n",
    "            'https://raw.githubusercontent.com/fnielsen/afinn/master/afinn/data/AFINN-en-165.txt',\n",
    "            names = ['termino', 'sentimiento']\n",
    "          )\n",
    "lexicon.sample(6)"
   ]
  },
  {
   "cell_type": "code",
   "execution_count": 35,
   "id": "00658658-654b-4c6e-9a5e-cbb44954a7e8",
   "metadata": {},
   "outputs": [
    {
     "data": {
      "text/html": [
       "<div>\n",
       "<style scoped>\n",
       "    .dataframe tbody tr th:only-of-type {\n",
       "        vertical-align: middle;\n",
       "    }\n",
       "\n",
       "    .dataframe tbody tr th {\n",
       "        vertical-align: top;\n",
       "    }\n",
       "\n",
       "    .dataframe thead th {\n",
       "        text-align: right;\n",
       "    }\n",
       "</style>\n",
       "<table border=\"1\" class=\"dataframe\">\n",
       "  <thead>\n",
       "    <tr style=\"text-align: right;\">\n",
       "      <th></th>\n",
       "      <th>reviewerID</th>\n",
       "      <th>asin</th>\n",
       "      <th>sentimiento</th>\n",
       "    </tr>\n",
       "  </thead>\n",
       "  <tbody>\n",
       "    <tr>\n",
       "      <th>48497</th>\n",
       "      <td>AZZMO52V8WZ68</td>\n",
       "      <td>B00E3F0S4Q</td>\n",
       "      <td>8</td>\n",
       "    </tr>\n",
       "    <tr>\n",
       "      <th>48498</th>\n",
       "      <td>AZZMO52V8WZ68</td>\n",
       "      <td>B00ETBK3MG</td>\n",
       "      <td>10</td>\n",
       "    </tr>\n",
       "    <tr>\n",
       "      <th>48499</th>\n",
       "      <td>AZZMO52V8WZ68</td>\n",
       "      <td>B00KI1SJJK</td>\n",
       "      <td>8</td>\n",
       "    </tr>\n",
       "    <tr>\n",
       "      <th>48500</th>\n",
       "      <td>AZZN6N74U2PA5</td>\n",
       "      <td>B004P8K2HY</td>\n",
       "      <td>7</td>\n",
       "    </tr>\n",
       "    <tr>\n",
       "      <th>48501</th>\n",
       "      <td>AZZN6N74U2PA5</td>\n",
       "      <td>B00B6JFKNG</td>\n",
       "      <td>0</td>\n",
       "    </tr>\n",
       "    <tr>\n",
       "      <th>48502</th>\n",
       "      <td>AZZN6N74U2PA5</td>\n",
       "      <td>B00DY91L70</td>\n",
       "      <td>4</td>\n",
       "    </tr>\n",
       "    <tr>\n",
       "      <th>48503</th>\n",
       "      <td>AZZPTYC0F6FWA</td>\n",
       "      <td>B00466H3MM</td>\n",
       "      <td>15</td>\n",
       "    </tr>\n",
       "    <tr>\n",
       "      <th>48504</th>\n",
       "      <td>AZZQRGF0PC6WF</td>\n",
       "      <td>B006KZ5M84</td>\n",
       "      <td>-5</td>\n",
       "    </tr>\n",
       "    <tr>\n",
       "      <th>48505</th>\n",
       "      <td>AZZQRGF0PC6WF</td>\n",
       "      <td>B008I7DO96</td>\n",
       "      <td>0</td>\n",
       "    </tr>\n",
       "    <tr>\n",
       "      <th>48506</th>\n",
       "      <td>AZZQRGF0PC6WF</td>\n",
       "      <td>B00FQ5D27C</td>\n",
       "      <td>-1</td>\n",
       "    </tr>\n",
       "    <tr>\n",
       "      <th>48507</th>\n",
       "      <td>AZZW5NCOD8IA0</td>\n",
       "      <td>B0093MU7QS</td>\n",
       "      <td>7</td>\n",
       "    </tr>\n",
       "    <tr>\n",
       "      <th>48508</th>\n",
       "      <td>AZZW5NCOD8IA0</td>\n",
       "      <td>B00C7CTHBM</td>\n",
       "      <td>14</td>\n",
       "    </tr>\n",
       "  </tbody>\n",
       "</table>\n",
       "</div>"
      ],
      "text/plain": [
       "          reviewerID        asin  sentimiento\n",
       "48497  AZZMO52V8WZ68  B00E3F0S4Q            8\n",
       "48498  AZZMO52V8WZ68  B00ETBK3MG           10\n",
       "48499  AZZMO52V8WZ68  B00KI1SJJK            8\n",
       "48500  AZZN6N74U2PA5  B004P8K2HY            7\n",
       "48501  AZZN6N74U2PA5  B00B6JFKNG            0\n",
       "48502  AZZN6N74U2PA5  B00DY91L70            4\n",
       "48503  AZZPTYC0F6FWA  B00466H3MM           15\n",
       "48504  AZZQRGF0PC6WF  B006KZ5M84           -5\n",
       "48505  AZZQRGF0PC6WF  B008I7DO96            0\n",
       "48506  AZZQRGF0PC6WF  B00FQ5D27C           -1\n",
       "48507  AZZW5NCOD8IA0  B0093MU7QS            7\n",
       "48508  AZZW5NCOD8IA0  B00C7CTHBM           14"
      ]
     },
     "execution_count": 35,
     "metadata": {},
     "output_type": "execute_result"
    }
   ],
   "source": [
    "# Sentimiento promedio\n",
    "# ==============================================================================\n",
    "reviews_sentimientos = pd.merge(\n",
    "                            left     = df_reviews_text_m_tidy,\n",
    "                            right    = lexicon,\n",
    "                            left_on  = \"token\", \n",
    "                            right_on = \"termino\",\n",
    "                            how      = \"inner\"\n",
    "                      )\n",
    "\n",
    "reviews_sentimientos = reviews_sentimientos.drop(columns = \"termino\")\n",
    "\n",
    "# Se suman los sentimientos de las palabras que forman cada review.\n",
    "reviews_sentimientos = reviews_sentimientos[[\"reviewerID\", \"asin\", \"sentimiento\"]] \\\n",
    "                      .groupby([\"reviewerID\", \"asin\"])\\\n",
    "                      .sum().reset_index()\n",
    "reviews_sentimientos.tail(12)"
   ]
  },
  {
   "cell_type": "markdown",
   "id": "1b6cb8a9-91be-4f21-97c4-9024240d168d",
   "metadata": {},
   "source": [
    "Comprobamos el funcionamiento, relacionando el review con el numero de su sentimiento."
   ]
  },
  {
   "cell_type": "code",
   "execution_count": 36,
   "id": "4f26ba52-389b-4584-aa98-2dd79a087a85",
   "metadata": {},
   "outputs": [
    {
     "name": "stdout",
     "output_type": "stream",
     "text": [
      "[\"I was pleasantly surprised this story was so good. It's sci-fi aspect would not be my usual read but I liked this one a lot. Great characters,strong dom male and sub female... I liked it.Hopefully Stephanie Snow is not a one hit wonder...I want more!\"]\n"
     ]
    }
   ],
   "source": [
    "#df1 = df[(df.a != -1) & (df.b != -1)]\n",
    "#pd.set_option(\"display.max_rows\", 15, \"display.max_columns\", 19) #en caso de visualizar cantidad n de datos\n",
    "\n",
    "# 48503\tAZZPTYC0F6FWA\tB00466H3MM\t15\n",
    "dfPruenaC = df_reviews[(df_reviews['reviewerID']=='AZZPTYC0F6FWA') & (df_reviews['asin']=='B00466H3MM') ]\n",
    "print(dfPruenaC['reviewText'].values)\n"
   ]
  },
  {
   "cell_type": "markdown",
   "id": "c7d6f264-1216-44bd-8bd0-4d92b966f144",
   "metadata": {},
   "source": [
    "Se calcula el porcentaje de reviews positivos, negativos y neutros para cada reviewer."
   ]
  },
  {
   "cell_type": "markdown",
   "id": "b353aa29-6cdb-473c-a0c4-7434ec1c36bd",
   "metadata": {},
   "source": [
    "## 4. Modelos"
   ]
  },
  {
   "cell_type": "markdown",
   "id": "42ad818e-6467-4e05-9e33-aa34e9c58fde",
   "metadata": {},
   "source": [
    "### 4.1. The multinomial Naive Bayes classifier. "
   ]
  },
  {
   "cell_type": "code",
   "execution_count": 37,
   "id": "0ae4f6c3-168f-4532-b209-38be8f979bac",
   "metadata": {},
   "outputs": [
    {
     "data": {
      "text/html": [
       "<div>\n",
       "<style scoped>\n",
       "    .dataframe tbody tr th:only-of-type {\n",
       "        vertical-align: middle;\n",
       "    }\n",
       "\n",
       "    .dataframe tbody tr th {\n",
       "        vertical-align: top;\n",
       "    }\n",
       "\n",
       "    .dataframe thead th {\n",
       "        text-align: right;\n",
       "    }\n",
       "</style>\n",
       "<table border=\"1\" class=\"dataframe\">\n",
       "  <thead>\n",
       "    <tr style=\"text-align: right;\">\n",
       "      <th></th>\n",
       "      <th>asin</th>\n",
       "      <th>overall</th>\n",
       "      <th>reviewText</th>\n",
       "      <th>reviewerID</th>\n",
       "      <th>texto_tokenizado</th>\n",
       "    </tr>\n",
       "  </thead>\n",
       "  <tbody>\n",
       "    <tr>\n",
       "      <th>186860</th>\n",
       "      <td>B007FIQMHU</td>\n",
       "      <td>5</td>\n",
       "      <td>A unique hero. A strong character who was sure...</td>\n",
       "      <td>A36T5VDRP7B7F</td>\n",
       "      <td>[unique, hero, strong, character, who, was, su...</td>\n",
       "    </tr>\n",
       "    <tr>\n",
       "      <th>248831</th>\n",
       "      <td>B008DQLNQI</td>\n",
       "      <td>2</td>\n",
       "      <td>If I paid I'd want a refund .. the characters ...</td>\n",
       "      <td>AUD1LIFNPHREC</td>\n",
       "      <td>[if, paid, want, refund, the, characters, are,...</td>\n",
       "    </tr>\n",
       "    <tr>\n",
       "      <th>14010</th>\n",
       "      <td>B003A022GW</td>\n",
       "      <td>5</td>\n",
       "      <td>I enjoyed this second installment more than th...</td>\n",
       "      <td>A3AB3Z5R69HWLS</td>\n",
       "      <td>[enjoyed, this, second, installment, more, tha...</td>\n",
       "    </tr>\n",
       "    <tr>\n",
       "      <th>907091</th>\n",
       "      <td>B00JVHPVZ2</td>\n",
       "      <td>5</td>\n",
       "      <td>This book tells you all about the different ki...</td>\n",
       "      <td>AIIC0G14GVVV</td>\n",
       "      <td>[this, book, tells, you, all, about, the, diff...</td>\n",
       "    </tr>\n",
       "    <tr>\n",
       "      <th>334871</th>\n",
       "      <td>B009WI84A4</td>\n",
       "      <td>5</td>\n",
       "      <td>I am fast becoming a fan of Wanda B. Campbell....</td>\n",
       "      <td>A31D1WWJQUVBVF</td>\n",
       "      <td>[am, fast, becoming, fan, of, wanda, campbell,...</td>\n",
       "    </tr>\n",
       "  </tbody>\n",
       "</table>\n",
       "</div>"
      ],
      "text/plain": [
       "              asin  overall  \\\n",
       "186860  B007FIQMHU        5   \n",
       "248831  B008DQLNQI        2   \n",
       "14010   B003A022GW        5   \n",
       "907091  B00JVHPVZ2        5   \n",
       "334871  B009WI84A4        5   \n",
       "\n",
       "                                               reviewText      reviewerID  \\\n",
       "186860  A unique hero. A strong character who was sure...   A36T5VDRP7B7F   \n",
       "248831  If I paid I'd want a refund .. the characters ...   AUD1LIFNPHREC   \n",
       "14010   I enjoyed this second installment more than th...  A3AB3Z5R69HWLS   \n",
       "907091  This book tells you all about the different ki...    AIIC0G14GVVV   \n",
       "334871  I am fast becoming a fan of Wanda B. Campbell....  A31D1WWJQUVBVF   \n",
       "\n",
       "                                         texto_tokenizado  \n",
       "186860  [unique, hero, strong, character, who, was, su...  \n",
       "248831  [if, paid, want, refund, the, characters, are,...  \n",
       "14010   [enjoyed, this, second, installment, more, tha...  \n",
       "907091  [this, book, tells, you, all, about, the, diff...  \n",
       "334871  [am, fast, becoming, fan, of, wanda, campbell,...  "
      ]
     },
     "execution_count": 37,
     "metadata": {},
     "output_type": "execute_result"
    }
   ],
   "source": [
    "df_reviews_text_m.head()"
   ]
  },
  {
   "cell_type": "code",
   "execution_count": 38,
   "id": "d9c9d6c1-d79b-4a09-93f4-c22ee6517ed8",
   "metadata": {},
   "outputs": [
    {
     "data": {
      "text/html": [
       "<div>\n",
       "<style scoped>\n",
       "    .dataframe tbody tr th:only-of-type {\n",
       "        vertical-align: middle;\n",
       "    }\n",
       "\n",
       "    .dataframe tbody tr th {\n",
       "        vertical-align: top;\n",
       "    }\n",
       "\n",
       "    .dataframe thead th {\n",
       "        text-align: right;\n",
       "    }\n",
       "</style>\n",
       "<table border=\"1\" class=\"dataframe\">\n",
       "  <thead>\n",
       "    <tr style=\"text-align: right;\">\n",
       "      <th></th>\n",
       "      <th>overall</th>\n",
       "      <th>reviewText</th>\n",
       "      <th>texto_tokenizado</th>\n",
       "    </tr>\n",
       "  </thead>\n",
       "  <tbody>\n",
       "    <tr>\n",
       "      <th>186860</th>\n",
       "      <td>5</td>\n",
       "      <td>A unique hero. A strong character who was sure...</td>\n",
       "      <td>[unique, hero, strong, character, who, was, su...</td>\n",
       "    </tr>\n",
       "    <tr>\n",
       "      <th>248831</th>\n",
       "      <td>2</td>\n",
       "      <td>If I paid I'd want a refund .. the characters ...</td>\n",
       "      <td>[if, paid, want, refund, the, characters, are,...</td>\n",
       "    </tr>\n",
       "    <tr>\n",
       "      <th>14010</th>\n",
       "      <td>5</td>\n",
       "      <td>I enjoyed this second installment more than th...</td>\n",
       "      <td>[enjoyed, this, second, installment, more, tha...</td>\n",
       "    </tr>\n",
       "    <tr>\n",
       "      <th>907091</th>\n",
       "      <td>5</td>\n",
       "      <td>This book tells you all about the different ki...</td>\n",
       "      <td>[this, book, tells, you, all, about, the, diff...</td>\n",
       "    </tr>\n",
       "    <tr>\n",
       "      <th>334871</th>\n",
       "      <td>5</td>\n",
       "      <td>I am fast becoming a fan of Wanda B. Campbell....</td>\n",
       "      <td>[am, fast, becoming, fan, of, wanda, campbell,...</td>\n",
       "    </tr>\n",
       "  </tbody>\n",
       "</table>\n",
       "</div>"
      ],
      "text/plain": [
       "        overall                                         reviewText  \\\n",
       "186860        5  A unique hero. A strong character who was sure...   \n",
       "248831        2  If I paid I'd want a refund .. the characters ...   \n",
       "14010         5  I enjoyed this second installment more than th...   \n",
       "907091        5  This book tells you all about the different ki...   \n",
       "334871        5  I am fast becoming a fan of Wanda B. Campbell....   \n",
       "\n",
       "                                         texto_tokenizado  \n",
       "186860  [unique, hero, strong, character, who, was, su...  \n",
       "248831  [if, paid, want, refund, the, characters, are,...  \n",
       "14010   [enjoyed, this, second, installment, more, tha...  \n",
       "907091  [this, book, tells, you, all, about, the, diff...  \n",
       "334871  [am, fast, becoming, fan, of, wanda, campbell,...  "
      ]
     },
     "execution_count": 38,
     "metadata": {},
     "output_type": "execute_result"
    }
   ],
   "source": [
    "data = df_reviews_text_m[['overall' , 'reviewText' , 'texto_tokenizado']]\n",
    "data.head()"
   ]
  },
  {
   "cell_type": "code",
   "execution_count": 39,
   "id": "8cce5ba8-6dc1-48c9-b55a-2d0a3a538a7f",
   "metadata": {},
   "outputs": [],
   "source": [
    "def overall_threshold(value):\n",
    "    # taking threshold here as 3\n",
    "    if(value == 1 or value == 2 or value == 3):\n",
    "        return 0\n",
    "    else:\n",
    "        return 1\n",
    "\n",
    "data.overall = data.overall.apply(overall_threshold)"
   ]
  },
  {
   "cell_type": "code",
   "execution_count": 40,
   "id": "c8ce1e49-6eff-4722-8b5b-735dc87aa4ce",
   "metadata": {},
   "outputs": [],
   "source": [
    "# default random state is 0\n",
    "X_train, x_test, Y_train, y_test = train_test_split(data.reviewText, data.overall, test_size = 0.2, random_state = 0) "
   ]
  },
  {
   "cell_type": "code",
   "execution_count": 41,
   "id": "d22e46c9-f266-4a01-a96a-db4a764a97dc",
   "metadata": {},
   "outputs": [],
   "source": [
    "CV = CountVectorizer()\n",
    "X_train_overall = CV.fit_transform(X_train)\n",
    "x_test_overall = CV.transform(x_test)"
   ]
  },
  {
   "cell_type": "code",
   "execution_count": 42,
   "id": "64bb1202-3806-42e4-a5a1-7a5ffddbcb79",
   "metadata": {},
   "outputs": [
    {
     "name": "stdout",
     "output_type": "stream",
     "text": [
      "(39304, 56991)\n",
      "(9826, 56991)\n"
     ]
    }
   ],
   "source": [
    "print(X_train_overall.shape)\n",
    "print(x_test_overall.shape)"
   ]
  },
  {
   "cell_type": "code",
   "execution_count": 43,
   "id": "916a2ecc-2b4e-49dd-88b2-96d28508a456",
   "metadata": {},
   "outputs": [],
   "source": [
    "# Multinomial Naive Bayes is used particularly for documents, which explicitly models the count of words and related \n",
    "# calculations rather than just stating the presence or absence of a particular word\n",
    "\n",
    "mnb = MultinomialNB()\n",
    "mnb.fit(X_train_overall, Y_train)\n",
    "mnb_results = mnb.predict(x_test_overall)"
   ]
  },
  {
   "cell_type": "code",
   "execution_count": 44,
   "id": "4072ed09-37f8-4433-97e8-cb0c81078338",
   "metadata": {},
   "outputs": [
    {
     "data": {
      "text/plain": [
       "0.8887645023407287"
      ]
     },
     "execution_count": 44,
     "metadata": {},
     "output_type": "execute_result"
    }
   ],
   "source": [
    "accuracy_score(y_test, mnb_results)"
   ]
  },
  {
   "cell_type": "code",
   "execution_count": 45,
   "id": "0eaaacb8-9069-4886-862d-3249cb2d5325",
   "metadata": {},
   "outputs": [
    {
     "name": "stdout",
     "output_type": "stream",
     "text": [
      "              precision    recall  f1-score   support\n",
      "\n",
      "           0       0.67      0.60      0.63      1559\n",
      "           1       0.93      0.94      0.93      8267\n",
      "\n",
      "    accuracy                           0.89      9826\n",
      "   macro avg       0.80      0.77      0.78      9826\n",
      "weighted avg       0.88      0.89      0.89      9826\n",
      "\n"
     ]
    }
   ],
   "source": [
    "classification_ans = classification_report(y_test, mnb_results)\n",
    "print(classification_ans)"
   ]
  },
  {
   "cell_type": "code",
   "execution_count": 46,
   "id": "95cfa80f-c333-462c-b32e-8b6c986270cb",
   "metadata": {},
   "outputs": [
    {
     "name": "stdout",
     "output_type": "stream",
     "text": [
      "[[ 935  624]\n",
      " [ 469 7798]]\n"
     ]
    }
   ],
   "source": [
    "# Confusion matrix consists of true negatives, false positives, false negatives, true positives \n",
    "print(confusion_matrix(y_test, mnb_results))"
   ]
  },
  {
   "cell_type": "markdown",
   "id": "cf701e6c-131a-42c6-aa0e-0d9cd68450c6",
   "metadata": {},
   "source": [
    "### 4.2. C-Support Vector Classification."
   ]
  },
  {
   "cell_type": "code",
   "execution_count": null,
   "id": "a3bd8251-2f30-466f-b975-3f2a5ca1bc77",
   "metadata": {},
   "outputs": [],
   "source": [
    "# this code is very time-taking, optimization techniques can be used\n",
    "\n",
    "clf = SVC()\n",
    "clf.fit(X_train_overall, Y_train) \n",
    "svm = clf.predict(x_test_overall)"
   ]
  },
  {
   "cell_type": "code",
   "execution_count": null,
   "id": "cd0354ea-dba7-4f9d-aff2-334e0093a6aa",
   "metadata": {},
   "outputs": [],
   "source": [
    "accuracy_score(y_test, svm)"
   ]
  },
  {
   "cell_type": "code",
   "execution_count": null,
   "id": "5bf4f041-a968-4dbe-9000-ec44a1f134f8",
   "metadata": {},
   "outputs": [],
   "source": [
    "classification_ans = classification_report(y_test, svm)\n",
    "print(classification_ans)"
   ]
  },
  {
   "cell_type": "markdown",
   "id": "c2828824-164e-4300-b87f-008681f685ea",
   "metadata": {},
   "source": [
    "### 4.3. SGD Classifier."
   ]
  },
  {
   "cell_type": "code",
   "execution_count": null,
   "id": "7310c609-d2e9-40ee-9980-24aa8399a85e",
   "metadata": {},
   "outputs": [],
   "source": [
    "from sklearn.linear_model import SGDClassifier\n",
    "\n",
    "clf = SGDClassifier()\n",
    "\n",
    "distributions = dict(\n",
    "    penalty=['l1', 'l2', 'elasticnet'],\n",
    "    alpha=uniform(loc=1e-6, scale=1e-4)\n",
    ")\n",
    "\n",
    "random_search_cv = RandomizedSearchCV(\n",
    "    estimator=clf,\n",
    "    param_distributions=distributions,\n",
    "    cv=5,\n",
    "    n_iter=50\n",
    ")\n",
    "random_search_cv.fit(X_train_overall, Y_train)\n",
    "print(f'Best params: {random_search_cv.best_params_}')\n",
    "print(f'Best score: {random_search_cv.best_score_}')"
   ]
  },
  {
   "cell_type": "code",
   "execution_count": null,
   "id": "a0ea5e2c-e8ed-4a14-a6d9-0f75e8a62884",
   "metadata": {},
   "outputs": [],
   "source": []
  }
 ],
 "metadata": {
  "kernelspec": {
   "display_name": "Python 3",
   "language": "python",
   "name": "python3"
  },
  "language_info": {
   "codemirror_mode": {
    "name": "ipython",
    "version": 3
   },
   "file_extension": ".py",
   "mimetype": "text/x-python",
   "name": "python",
   "nbconvert_exporter": "python",
   "pygments_lexer": "ipython3",
   "version": "3.8.8"
  }
 },
 "nbformat": 4,
 "nbformat_minor": 5
}
